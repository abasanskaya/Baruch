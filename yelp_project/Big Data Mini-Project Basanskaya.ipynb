{
 "cells": [
  {
   "cell_type": "markdown",
   "metadata": {},
   "source": [
    "# Big Data Technologies Mini-Project\n",
    "\n",
    "## Name of Student: Anna Basanskaya"
   ]
  },
  {
   "cell_type": "markdown",
   "metadata": {},
   "source": [
    "## Mini Project Instructions:\n",
    "\n",
    "### Goal of project:\n",
    "Suppose you want to launch a $\\color{green}{\\mbox{dining}}$ business in the U.S. but you haven't decided its details yet.\n",
    "Use Big Data Technologies you learned from this course to help you make the following decisions:\n",
    "\n",
    " - Location of the business:\n",
    " Choose the cluster with highest average OPEN rate. \n",
    "\n",
    "\n",
    " - Type of business: based on the clustering result, within the best cluster, use yelp_review.csv to classify those dining business into \n",
    "    - American Food\n",
    "    - Asian Fusion (Chinese, Indian, Japanese, Korean, Thai food and so on)\n",
    "    - Frech Food\n",
    "    - Italian Food\n",
    "    - Mexican Food\n",
    "\n",
    "\n",
    " - Choose type of business: build classification model for Stars per Food type. Then choose the highest average stars."
   ]
  },
  {
   "cell_type": "markdown",
   "metadata": {},
   "source": [
    "# Set up"
   ]
  },
  {
   "cell_type": "markdown",
   "metadata": {},
   "source": [
    "## Start Spark session"
   ]
  },
  {
   "cell_type": "code",
   "execution_count": 1,
   "metadata": {},
   "outputs": [],
   "source": [
    "B_USE_HADOOP = False #Don't need to use it for the practice runs"
   ]
  },
  {
   "cell_type": "code",
   "execution_count": 2,
   "metadata": {},
   "outputs": [],
   "source": [
    "if B_USE_HADOOP:\n",
    "    YELP_DIR= \"hdfs://localhost:50000/yelpDir/\"\n",
    "else:\n",
    "    YELP_DIR = \"H:/Baruch/spark_source_code/\""
   ]
  },
  {
   "cell_type": "code",
   "execution_count": 3,
   "metadata": {
    "scrolled": true
   },
   "outputs": [],
   "source": [
    "# import SparkContext function to create new spark contexts for use\n",
    "from pyspark.context import SparkContext\n",
    "# import SparkSession function to create new spark sessions for use\n",
    "from pyspark.sql.session import SparkSession\n",
    "import pyspark.sql.functions as f"
   ]
  },
  {
   "cell_type": "code",
   "execution_count": 4,
   "metadata": {},
   "outputs": [],
   "source": [
    "import warnings\n",
    "try:\n",
    "    # create new spark context for RDDs\n",
    "    sc_p = SparkContext('local[2]').getOrCreate() \n",
    "except ValueError:\n",
    "    warnings.warn(\"SparkContext already exists in this scope\")\n",
    "# under the spark context sc_p, create new spark session called spark_p for dataframes\n",
    "spark_p = SparkSession(sc_p).builder.master(\"local[*]\").appName('yelp_project').getOrCreate() # entrypoint for dataframes in Spark 2+"
   ]
  },
  {
   "cell_type": "markdown",
   "metadata": {},
   "source": [
    "Print version information."
   ]
  },
  {
   "cell_type": "code",
   "execution_count": 5,
   "metadata": {},
   "outputs": [
    {
     "name": "stdout",
     "output_type": "stream",
     "text": [
      "Python version: 2.7.14\n",
      "Spark version: 2.3.0\n"
     ]
    }
   ],
   "source": [
    "import platform\n",
    "print(\"Python version: %s\" %platform.python_version())\n",
    "print(\"Spark version: %s\" %sc_p.version)"
   ]
  },
  {
   "cell_type": "markdown",
   "metadata": {},
   "source": [
    "Print configuration information."
   ]
  },
  {
   "cell_type": "code",
   "execution_count": 6,
   "metadata": {},
   "outputs": [
    {
     "data": {
      "text/plain": [
       "[(u'spark.driver.port', u'59894'),\n",
       " (u'spark.app.name', u'yelp_project'),\n",
       " (u'spark.app.id', u'local-1550356630917'),\n",
       " (u'spark.rdd.compress', u'True'),\n",
       " (u'spark.serializer.objectStreamReset', u'100'),\n",
       " (u'spark.master', u'local[*]'),\n",
       " (u'spark.executor.id', u'driver'),\n",
       " (u'spark.submit.deployMode', u'client'),\n",
       " (u'spark.driver.host', u'Annyutka-PC'),\n",
       " (u'spark.ui.showConsoleProgress', u'true'),\n",
       " (u'spark.driver.cores', u'8')]"
      ]
     },
     "execution_count": 6,
     "metadata": {},
     "output_type": "execute_result"
    }
   ],
   "source": [
    "sc_p.getConf().getAll()"
   ]
  },
  {
   "cell_type": "markdown",
   "metadata": {},
   "source": [
    "## Load yelp business data"
   ]
  },
  {
   "cell_type": "code",
   "execution_count": 7,
   "metadata": {},
   "outputs": [],
   "source": [
    "yelp_business_for_header = sc_p.textFile(YELP_DIR + \"yelp_business.csv\")"
   ]
  },
  {
   "cell_type": "code",
   "execution_count": 8,
   "metadata": {},
   "outputs": [],
   "source": [
    "yelp_business_for_header1= yelp_business_for_header.map(lambda x: x.replace('\"\"\"', '\"'))"
   ]
  },
  {
   "cell_type": "markdown",
   "metadata": {},
   "source": [
    "The line below only needs to be run once to save a temporary file."
   ]
  },
  {
   "cell_type": "code",
   "execution_count": 9,
   "metadata": {},
   "outputs": [],
   "source": [
    "#yelp_business_for_header1.saveAsTextFile(YELP_DIR + \"yelp_business1/\")"
   ]
  },
  {
   "cell_type": "code",
   "execution_count": 10,
   "metadata": {},
   "outputs": [],
   "source": [
    "yelp_business_data_init= spark_p.read .option('header','true') .option('inferSchema', 'true') .csv(YELP_DIR+\"yelp_business1/part-00000\")"
   ]
  },
  {
   "cell_type": "markdown",
   "metadata": {},
   "source": [
    "Make sure it is a dataframe."
   ]
  },
  {
   "cell_type": "code",
   "execution_count": 11,
   "metadata": {},
   "outputs": [
    {
     "data": {
      "text/plain": [
       "pyspark.sql.dataframe.DataFrame"
      ]
     },
     "execution_count": 11,
     "metadata": {},
     "output_type": "execute_result"
    }
   ],
   "source": [
    "type(yelp_business_data_init)"
   ]
  },
  {
   "cell_type": "markdown",
   "metadata": {},
   "source": [
    "Look at a summary."
   ]
  },
  {
   "cell_type": "code",
   "execution_count": 12,
   "metadata": {},
   "outputs": [
    {
     "name": "stdout",
     "output_type": "stream",
     "text": [
      "+-------+-----------------+------------------+------------------+------------------+\n",
      "|summary|            state|          latitude|         longitude|             stars|\n",
      "+-------+-----------------+------------------+------------------+------------------+\n",
      "|  count|            87364|             87365|             87365|             87365|\n",
      "|   mean|4.777777777777778|38.685862264148135|-92.44736824787608|3.6315057517312423|\n",
      "| stddev|9.601793813889385| 5.357779036823527|26.257093584405386| 1.000286864320979|\n",
      "|    min|               01|        -36.086009|      -122.4993871|               1.0|\n",
      "|    max|              XGL|     59.4381813808|     14.0926355127|               5.0|\n",
      "+-------+-----------------+------------------+------------------+------------------+\n",
      "\n"
     ]
    }
   ],
   "source": [
    "yelp_business_data_init.describe('state', 'latitude', 'longitude', 'stars').show()"
   ]
  },
  {
   "cell_type": "markdown",
   "metadata": {},
   "source": [
    "Look into why state has numeric values. Maybe a data problem or could relfect non-US states."
   ]
  },
  {
   "cell_type": "code",
   "execution_count": 13,
   "metadata": {},
   "outputs": [
    {
     "name": "stdout",
     "output_type": "stream",
     "text": [
      "+-----+-----+\n",
      "|state|stars|\n",
      "+-----+-----+\n",
      "| null|  5.0|\n",
      "|   01|  3.5|\n",
      "|   01|  4.0|\n",
      "|   01|  3.5|\n",
      "|   01|  5.0|\n",
      "|   01|  4.5|\n",
      "|   01|  2.5|\n",
      "|   01|  3.0|\n",
      "|   30|  3.0|\n",
      "|    6|  3.0|\n",
      "|  ABE|  4.5|\n",
      "|  ABE|  4.5|\n",
      "|   AK|  2.5|\n",
      "|   AL|  5.0|\n",
      "|   AR|  1.5|\n",
      "|   AZ|  4.0|\n",
      "|   AZ|  3.0|\n",
      "|   AZ|  2.0|\n",
      "|   AZ|  3.0|\n",
      "|   AZ|  3.5|\n",
      "+-----+-----+\n",
      "only showing top 20 rows\n",
      "\n"
     ]
    }
   ],
   "source": [
    "yelp_business_data_init.select('state', 'stars').sort('state', ascending=True).show()"
   ]
  },
  {
   "cell_type": "code",
   "execution_count": 14,
   "metadata": {},
   "outputs": [
    {
     "name": "stdout",
     "output_type": "stream",
     "text": [
      "+--------------------+----------+------------+--------------------+----------------+-----+-----------+-------------+--------------+-----+------------+-------+--------------------+\n",
      "|         business_id|      name|neighborhood|             address|            city|state|postal_code|     latitude|     longitude|stars|review_count|is_open|          categories|\n",
      "+--------------------+----------+------------+--------------------+----------------+-----+-----------+-------------+--------------+-----+------------+-------+--------------------+\n",
      "|SLqpLeF3gq6nnx6_J...|5150 Wraps|        null|250 Sunpac Ave, S...|Henderson Nevada| null|      89015|36.0695210053|-114.996330924|  5.0|          12|      1|Auto Customizatio...|\n",
      "+--------------------+----------+------------+--------------------+----------------+-----+-----------+-------------+--------------+-----+------------+-------+--------------------+\n",
      "\n"
     ]
    }
   ],
   "source": [
    "yelp_business_data_init.where(yelp_business_data_init.state.isNull()).show()"
   ]
  },
  {
   "cell_type": "markdown",
   "metadata": {},
   "source": [
    "Drop null and NA values."
   ]
  },
  {
   "cell_type": "code",
   "execution_count": 15,
   "metadata": {},
   "outputs": [],
   "source": [
    "yelp_business_data = yelp_business_data_init.na.drop(subset=\n",
    "                                                     [\"business_id\", \"name\", \"city\", \"state\",\\\n",
    "                                                     \"postal_code\", \"latitude\", \"longitude\",\\\n",
    "                                                     \"stars\", \"review_count\", \"is_open\", \"categories\"])"
   ]
  },
  {
   "cell_type": "markdown",
   "metadata": {},
   "source": [
    "Examine the new data set to make sure null and na values have been dropped."
   ]
  },
  {
   "cell_type": "code",
   "execution_count": 16,
   "metadata": {},
   "outputs": [
    {
     "name": "stdout",
     "output_type": "stream",
     "text": [
      "+-------+-----------------+------------------+------------------+------------------+\n",
      "|summary|            state|          latitude|         longitude|             stars|\n",
      "+-------+-----------------+------------------+------------------+------------------+\n",
      "|  count|            87047|             87047|             87047|             87047|\n",
      "|   mean|4.777777777777778|38.686839705909776|-92.44750400352214|3.6314634622675106|\n",
      "| stddev|9.601793813889385|5.3439448707529955|26.250931440704566|0.9991170186085166|\n",
      "|    min|               01|        -36.086009|      -122.4993871|               1.0|\n",
      "|    max|              XGL|     59.4381813808|     14.0926355127|               5.0|\n",
      "+-------+-----------------+------------------+------------------+------------------+\n",
      "\n"
     ]
    }
   ],
   "source": [
    "yelp_business_data.describe('state', 'latitude', 'longitude', 'stars').show()"
   ]
  },
  {
   "cell_type": "markdown",
   "metadata": {},
   "source": [
    "### Visualize latitude and longitude"
   ]
  },
  {
   "cell_type": "markdown",
   "metadata": {},
   "source": [
    "First convert to a pandas dataframe."
   ]
  },
  {
   "cell_type": "code",
   "execution_count": 17,
   "metadata": {},
   "outputs": [
    {
     "name": "stdout",
     "output_type": "stream",
     "text": [
      "+----------+------------+-------+\n",
      "|latitude  |longitude   |is_open|\n",
      "+----------+------------+-------+\n",
      "|33.3306902|-111.9785992|1      |\n",
      "|40.2916853|-80.1048999 |1      |\n",
      "|33.5249025|-112.1153098|1      |\n",
      "|33.3831468|-111.9647254|0      |\n",
      "|41.1195346|-81.4756898 |1      |\n",
      "+----------+------------+-------+\n",
      "only showing top 5 rows\n",
      "\n"
     ]
    }
   ],
   "source": [
    "import numpy as np\n",
    "import matplotlib.pyplot as plt\n",
    "import pandas as pd\n",
    "yelp_business_geo = yelp_business_data.select('latitude','longitude', 'is_open')\n",
    "yelp_business_geo.show(5, False)\n",
    "\n",
    "### use toPandas member function of Spark DataFrame to get a Pandas DataFrame\n",
    "### only a good idea for small datasets\n",
    "yelp_business_geo_pd = yelp_business_geo.toPandas()"
   ]
  },
  {
   "cell_type": "markdown",
   "metadata": {},
   "source": [
    "Plot the longitude and latitude of all businesses, color coded by whether or not they are open."
   ]
  },
  {
   "cell_type": "code",
   "execution_count": 18,
   "metadata": {},
   "outputs": [
    {
     "name": "stdout",
     "output_type": "stream",
     "text": [
      "<class 'pandas.core.frame.DataFrame'>\n",
      "RangeIndex: 87047 entries, 0 to 87046\n",
      "Data columns (total 3 columns):\n",
      "latitude     87047 non-null float64\n",
      "longitude    87047 non-null float64\n",
      "is_open      87047 non-null int32\n",
      "dtypes: float64(2), int32(1)\n",
      "memory usage: 1.7 MB\n"
     ]
    },
    {
     "data": {
      "image/png": "[encoded data removed]",
      "text/plain": [
       "<matplotlib.figure.Figure at 0x3ae25f8>"
      ]
     },
     "metadata": {},
     "output_type": "display_data"
    }
   ],
   "source": [
    "### call member function apply to apply to_numeric function to all columns\n",
    "### to_numeric function changes its input into numeric data type\n",
    "yelp_business_geo_pd = yelp_business_geo_pd.apply(pd.to_numeric)\n",
    "yelp_business_geo_pd.info()\n",
    "\n",
    "### use Pandas Dataframe member function plot to make scatter plot \n",
    "###     of longitude and lontitude of all business units.\n",
    "### use matplotlib function plt to show the plot.\n",
    "colors = {0: 'r', 1: 'b'}\n",
    "yelp_business_geo_pd.plot(kind='scatter', x='longitude', y='latitude', color=[colors[i] for i in yelp_business_geo_pd['is_open']])\n",
    "plt.show()"
   ]
  },
  {
   "cell_type": "markdown",
   "metadata": {},
   "source": [
    "### Filter down to US dining businesses"
   ]
  },
  {
   "cell_type": "markdown",
   "metadata": {},
   "source": [
    "First look at the data."
   ]
  },
  {
   "cell_type": "code",
   "execution_count": 20,
   "metadata": {},
   "outputs": [
    {
     "name": "stdout",
     "output_type": "stream",
     "text": [
      "+-----+------------------+\n",
      "|state|        avg(stars)|\n",
      "+-----+------------------+\n",
      "|   AZ|3.7275238771805195|\n",
      "|   SC|3.6024590163934427|\n",
      "|   SL|               5.0|\n",
      "|   BW|3.8152446675031366|\n",
      "|   MN|               3.5|\n",
      "|   30|               3.0|\n",
      "|  FAL|               4.0|\n",
      "|  KHL|               3.5|\n",
      "|   01|3.7142857142857144|\n",
      "|  NYK|         3.7421875|\n",
      "|  NTH|               3.5|\n",
      "|  HLD|3.6923076923076925|\n",
      "|  SCB|               4.0|\n",
      "|   VA|               4.0|\n",
      "|   QC| 3.657225156024964|\n",
      "|  ESX| 4.142857142857143|\n",
      "|   NV| 3.716891810396816|\n",
      "|  GLG|               4.5|\n",
      "|   WI| 3.637182637182637|\n",
      "|   CA|               4.5|\n",
      "+-----+------------------+\n",
      "only showing top 20 rows\n",
      "\n"
     ]
    }
   ],
   "source": [
    "yelp_business_data.groupby('state').avg(*['stars']).show()"
   ]
  },
  {
   "cell_type": "code",
   "execution_count": 21,
   "metadata": {},
   "outputs": [
    {
     "name": "stdout",
     "output_type": "stream",
     "text": [
      "+--------------+-----+-----------+\n",
      "|city          |state|postal_code|\n",
      "+--------------+-----+-----------+\n",
      "|Ahwatukee     |AZ   |85044      |\n",
      "|McMurray      |PA   |15317      |\n",
      "|Phoenix       |AZ   |85017      |\n",
      "|Tempe         |AZ   |85282      |\n",
      "|Cuyahoga Falls|OH   |44221      |\n",
      "|Stuttgart     |BW   |70567      |\n",
      "|Las Vegas     |NV   |89128      |\n",
      "|Las Vegas     |NV   |89128      |\n",
      "|Wexford       |PA   |15090      |\n",
      "|Henderson     |NV   |89014      |\n",
      "+--------------+-----+-----------+\n",
      "only showing top 10 rows\n",
      "\n"
     ]
    }
   ],
   "source": [
    "yelp_business_data.select('city', 'state', 'postal_code').show(10,False)"
   ]
  },
  {
   "cell_type": "markdown",
   "metadata": {},
   "source": [
    "Create a list containing the state abbreviations for the US."
   ]
  },
  {
   "cell_type": "code",
   "execution_count": 22,
   "metadata": {},
   "outputs": [],
   "source": [
    "STATES = [\"AL\", \"AK\", \"AZ\", \"AR\", \"CA\", \"CO\", \"CT\", \"DC\", \"DE\", \"FL\", \"GA\", \n",
    "          \"HI\", \"ID\", \"IL\", \"IN\", \"IA\", \"KS\", \"KY\", \"LA\", \"ME\", \"MD\", \n",
    "          \"MA\", \"MI\", \"MN\", \"MS\", \"MO\", \"MT\", \"NE\", \"NV\", \"NH\", \"NJ\", \n",
    "          \"NM\", \"NY\", \"NC\", \"ND\", \"OH\", \"OK\", \"OR\", \"PA\", \"RI\", \"SC\", \n",
    "          \"SD\", \"TN\", \"TX\", \"UT\", \"VT\", \"VA\", \"WA\", \"WV\", \"WI\", \"WY\"]"
   ]
  },
  {
   "cell_type": "markdown",
   "metadata": {},
   "source": [
    "Keep only US businesses."
   ]
  },
  {
   "cell_type": "code",
   "execution_count": 23,
   "metadata": {},
   "outputs": [],
   "source": [
    "yelp_business_us_data = yelp_business_data.where(f.col('state').isin(STATES))"
   ]
  },
  {
   "cell_type": "code",
   "execution_count": 24,
   "metadata": {},
   "outputs": [
    {
     "name": "stdout",
     "output_type": "stream",
     "text": [
      "+--------------+-----+-----------+\n",
      "|city          |state|postal_code|\n",
      "+--------------+-----+-----------+\n",
      "|Ahwatukee     |AZ   |85044      |\n",
      "|McMurray      |PA   |15317      |\n",
      "|Phoenix       |AZ   |85017      |\n",
      "|Tempe         |AZ   |85282      |\n",
      "|Cuyahoga Falls|OH   |44221      |\n",
      "|Las Vegas     |NV   |89128      |\n",
      "|Las Vegas     |NV   |89128      |\n",
      "|Wexford       |PA   |15090      |\n",
      "|Henderson     |NV   |89014      |\n",
      "|Houston       |PA   |15342      |\n",
      "+--------------+-----+-----------+\n",
      "only showing top 10 rows\n",
      "\n"
     ]
    }
   ],
   "source": [
    "yelp_business_us_data.select('city','state', 'postal_code').show(10,False)"
   ]
  },
  {
   "cell_type": "markdown",
   "metadata": {},
   "source": [
    "Keep only dining businesses"
   ]
  },
  {
   "cell_type": "code",
   "execution_count": 25,
   "metadata": {},
   "outputs": [],
   "source": [
    "yelp_business_dining = \\\n",
    "    yelp_business_us_data.filter(yelp_business_us_data.categories.contains('Restaurants')\\\n",
    "                                | yelp_business_us_data.categories.contains('Food'))"
   ]
  },
  {
   "cell_type": "code",
   "execution_count": 26,
   "metadata": {},
   "outputs": [
    {
     "name": "stdout",
     "output_type": "stream",
     "text": [
      "<class 'pyspark.sql.dataframe.DataFrame'>\n",
      "['business_id', 'name', 'neighborhood', 'address', 'city', 'state', 'postal_code', 'latitude', 'longitude', 'stars', 'review_count', 'is_open', 'categories']\n",
      "longitude\n",
      "latitude\n",
      "is_open\n"
     ]
    }
   ],
   "source": [
    "print(type(yelp_business_dining))\n",
    "print(yelp_business_dining.columns)\n",
    "print(yelp_business_dining.columns[8])\n",
    "print(yelp_business_dining.columns[7])\n",
    "print(yelp_business_dining.columns[11])"
   ]
  },
  {
   "cell_type": "markdown",
   "metadata": {},
   "source": [
    "View the top few records."
   ]
  },
  {
   "cell_type": "code",
   "execution_count": 27,
   "metadata": {},
   "outputs": [
    {
     "name": "stdout",
     "output_type": "stream",
     "text": [
      "[Row(business_id=u'PfOCPjBrlQAnz__NXj9h_w', name=u'Brick House Tavern + Tap', neighborhood=None, address=u'581 Howe Ave', city=u'Cuyahoga Falls', state=u'OH', postal_code=u'44221', latitude=41.1195346, longitude=-81.4756898, stars=3.5, review_count=116, is_open=1, categories=u'American (New);Nightlife;Bars;Sandwiches;American (Traditional);Burgers;Restaurants'), Row(business_id=u'EsMcGiZaQuG1OOvL9iUFug', name=u'Any Given Sundae', neighborhood=None, address=u'2612 Brandt School Rd', city=u'Wexford', state=u'PA', postal_code=u'15090', latitude=40.6151022445, longitude=-80.0913487465, stars=5.0, review_count=15, is_open=1, categories=u'Coffee & Tea;Ice Cream & Frozen Yogurt;Food'), Row(business_id=u'XOSRcvtaKc_Q5H1SAzN20A', name=u'East Coast Coffee', neighborhood=None, address=u'737 West Pike St', city=u'Houston', state=u'PA', postal_code=u'15342', latitude=40.2415480142, longitude=-80.2128151059, stars=4.5, review_count=3, is_open=0, categories=u'Breakfast & Brunch;Gluten-Free;Coffee & Tea;Food;Restaurants;Sandwiches'), Row(business_id=u'fNMVV_ZX7CJSDWQGdOM8Nw', name=u'Showmars Government Center', neighborhood=u'Uptown', address=u'600 E 4th St', city=u'Charlotte', state=u'NC', postal_code=u'28202', latitude=35.2216474, longitude=-80.8393449, stars=3.5, review_count=7, is_open=1, categories=u'Restaurants;American (Traditional)'), Row(business_id=u'Dj0S-Oe4ytRJzMGUPgYUkw', name=u'Panera Bread', neighborhood=None, address=u'38295 Chestnut Ridge Rd', city=u'Elyria', state=u'OH', postal_code=u'44035', latitude=41.343078, longitude=-82.06714, stars=2.0, review_count=4, is_open=1, categories=u'Soup;Salad;Sandwiches;Restaurants'), Row(business_id=u'gAy4LYpsScrj8POnCW6btQ', name=u'Toast Cafe', neighborhood=None, address=u'2429 Hwy 160 W', city=u'Fort Mill', state=u'SC', postal_code=u'29708', latitude=35.0472868, longitude=-80.9905588, stars=3.5, review_count=6, is_open=0, categories=u'Food;American (Traditional);Coffee & Tea;Restaurants'), Row(business_id=u'tRVx2c89coruPRwYhGTcTw', name=u'Yuzu', neighborhood=None, address=u'13603 Madison Ave', city=u'Lakewood', state=u'OH', postal_code=u'44107', latitude=41.4768463, longitude=-81.7869709, stars=3.5, review_count=78, is_open=1, categories=u'Nightlife;Izakaya;Comfort Food;Cocktail Bars;Asian Fusion;Bars;Japanese;Restaurants;Gastropubs;Tapas/Small Plates'), Row(business_id=u'zjySmTfL9WiMDVgp8-Jp3w', name=u'TCBY', neighborhood=None, address=u'610 Jetton St, Ste 130', city=u'Davidson', state=u'NC', postal_code=u'28036', latitude=35.5012273, longitude=-80.8609494, stars=3.5, review_count=3, is_open=1, categories=u'Desserts;Ice Cream & Frozen Yogurt;Food'), Row(business_id=u'BnuzcebyB1AfxH0kjNWqSg', name=u\"Carrabba's Italian Grill\", neighborhood=None, address=u'245 Lancaster Ave', city=u'Frazer', state=u'PA', postal_code=u'19355', latitude=40.0410025289, longitude=-75.5424965117, stars=3.5, review_count=25, is_open=0, categories=u'Restaurants;Italian;Seafood'), Row(business_id=u'rDMptJYWtnMhpQu_rRXHng', name=u\"McDonald's\", neighborhood=None, address=u'719 E Thunderbird Rd', city=u'Phoenix', state=u'AZ', postal_code=u'85022', latitude=33.6070702, longitude=-112.0643825, stars=1.0, review_count=10, is_open=1, categories=u'Fast Food;Burgers;Restaurants')]\n"
     ]
    }
   ],
   "source": [
    "print(yelp_business_dining.take(10))\n"
   ]
  },
  {
   "cell_type": "markdown",
   "metadata": {},
   "source": [
    "# Clustering"
   ]
  },
  {
   "cell_type": "markdown",
   "metadata": {},
   "source": [
    "### Visualize the clusters before fitting kmeans"
   ]
  },
  {
   "cell_type": "code",
   "execution_count": 28,
   "metadata": {},
   "outputs": [
    {
     "name": "stdout",
     "output_type": "stream",
     "text": [
      "<class 'pandas.core.frame.DataFrame'>\n",
      "RangeIndex: 20867 entries, 0 to 20866\n",
      "Data columns (total 3 columns):\n",
      "latitude     20867 non-null float64\n",
      "longitude    20867 non-null float64\n",
      "is_open      20867 non-null int32\n",
      "dtypes: float64(2), int32(1)\n",
      "memory usage: 407.6 KB\n"
     ]
    },
    {
     "data": {
      "image/png": "[encoded data removed]",
      "text/plain": [
       "<matplotlib.figure.Figure at 0x6e3fcf8>"
      ]
     },
     "metadata": {},
     "output_type": "display_data"
    }
   ],
   "source": [
    "import numpy as np\n",
    "import matplotlib.pyplot as plt\n",
    "import pandas as pd\n",
    "\n",
    "### call member function apply to apply to_numeric function to all columns\n",
    "### to_numeric function changes its input into numeric data type\n",
    "yelp_business_dining_geo_pd = yelp_business_dining.select('latitude','longitude', 'is_open').toPandas()\n",
    "yelp_business_dining_geo_pd = yelp_business_dining_geo_pd.apply(pd.to_numeric)\n",
    "yelp_business_dining_geo_pd.info()\n",
    "\n",
    "### use Pandas Dataframe member function plot to make scatter plot \n",
    "###     of longitude and lontitude of all business units.\n",
    "### use matplotlib function plt to show the plot.\n",
    "colors = {0: 'r', 1: 'b'}\n",
    "yelp_business_dining_geo_pd.plot(kind='scatter', x='longitude', y='latitude', color=[colors[i] for i in yelp_business_dining_geo_pd['is_open']])\n",
    "plt.show()\n"
   ]
  },
  {
   "cell_type": "markdown",
   "metadata": {},
   "source": [
    "Turn Spark DataFrame into RDD and further map each row as Array data for clustering"
   ]
  },
  {
   "cell_type": "code",
   "execution_count": 29,
   "metadata": {},
   "outputs": [],
   "source": [
    "yelp_business_geo_dining = yelp_business_dining.rdd.map(lambda line: array([float(line[11]),float(line[8]),float(line[7])]))"
   ]
  },
  {
   "cell_type": "markdown",
   "metadata": {},
   "source": [
    "### Randomly split the dataset into training and testing data."
   ]
  },
  {
   "cell_type": "code",
   "execution_count": 30,
   "metadata": {},
   "outputs": [],
   "source": [
    "#dataframe\n",
    "from pyspark.ml.feature import VectorAssembler\n",
    "features_col = ['is_open',  'longitude', 'latitude']\n",
    "vecAssembler = VectorAssembler(inputCols=features_col, outputCol=\"features\")\n",
    "df_for_kmeans = vecAssembler.transform(yelp_business_dining).select('business_id', 'features')\n",
    "\n",
    " \n",
    "(yelp_train_dining_df, yelp_test_dining_df)= df_for_kmeans.randomSplit([0.9, 0.1], 24)"
   ]
  },
  {
   "cell_type": "markdown",
   "metadata": {},
   "source": [
    "### Build the model (cluster the data)"
   ]
  },
  {
   "cell_type": "code",
   "execution_count": 31,
   "metadata": {},
   "outputs": [],
   "source": [
    "k_range = range(2,10)"
   ]
  },
  {
   "cell_type": "markdown",
   "metadata": {},
   "source": [
    "Decide on k."
   ]
  },
  {
   "cell_type": "code",
   "execution_count": 32,
   "metadata": {},
   "outputs": [],
   "source": [
    "#use ml package\n",
    "from pyspark.ml.clustering import KMeans\n",
    "errors = []\n",
    "for k in k_range:\n",
    "    k_range \n",
    "    kmeans = KMeans().setK(k).setMaxIter(100).setInitMode(\"random\")\n",
    "    clusters_df = kmeans.fit(yelp_train_dining_df)\n",
    "    errors.append(clusters_df.computeCost(yelp_train_dining_df))\n",
    "\n"
   ]
  },
  {
   "cell_type": "code",
   "execution_count": 32,
   "metadata": {},
   "outputs": [
    {
     "data": {
      "image/png": "[encoded data removed]",
      "text/plain": [
       "<matplotlib.figure.Figure at 0xd260860>"
      ]
     },
     "metadata": {},
     "output_type": "display_data"
    }
   ],
   "source": [
    "plt.xlabel('Clusters (k)')\n",
    "plt.ylabel('SSE')\n",
    "plt.scatter(k_range,errors)\n",
    "plt.show()"
   ]
  },
  {
   "cell_type": "code",
   "execution_count": 33,
   "metadata": {},
   "outputs": [],
   "source": [
    "k=4\n",
    "kmeans = KMeans().setK(k).setMaxIter(100).setInitMode(\"random\")\n",
    "clusters_df = kmeans.fit(yelp_train_dining_df)"
   ]
  },
  {
   "cell_type": "code",
   "execution_count": 34,
   "metadata": {},
   "outputs": [
    {
     "name": "stdout",
     "output_type": "stream",
     "text": [
      "Within Set Sum of Squared Error for train data = 120926.633281\n",
      "Within Set Sum of Squared Error for testing data = 12465.4521734\n"
     ]
    }
   ],
   "source": [
    "# Evaluate clustering by computing Within Set Sum of Squared Errors for test data for ml dataframe\n",
    "WSSSE_train_df = clusters_df.computeCost(yelp_train_dining_df)\n",
    "WSSSE_test_df = clusters_df.computeCost(yelp_test_dining_df)\n",
    "print(\"Within Set Sum of Squared Error for train data = \" + str(WSSSE_train_df))\n",
    "print(\"Within Set Sum of Squared Error for testing data = \" + str(WSSSE_test_df))"
   ]
  },
  {
   "cell_type": "markdown",
   "metadata": {},
   "source": [
    "### Shows the result of clustering"
   ]
  },
  {
   "cell_type": "code",
   "execution_count": 34,
   "metadata": {},
   "outputs": [
    {
     "name": "stdout",
     "output_type": "stream",
     "text": [
      "Cluster Centers: \n",
      "[   0.71407186 -112.00025064   33.49066253]\n",
      "[  0.78608408 -80.85494166  40.98775951]\n",
      "[   0.69724335 -115.17009787   36.12162809]\n",
      "[  0.75569247 -83.76058738  37.69801246]\n"
     ]
    }
   ],
   "source": [
    "#ml\n",
    "centers = clusters_df.clusterCenters()\n",
    "print(\"Cluster Centers: \")\n",
    "for center in centers:\n",
    "    print(center)"
   ]
  },
  {
   "cell_type": "code",
   "execution_count": 35,
   "metadata": {},
   "outputs": [
    {
     "name": "stdout",
     "output_type": "stream",
     "text": [
      "The maximum open rate of 0.7861 is in cluster 2.\n"
     ]
    }
   ],
   "source": [
    "lon_centers = [center[1] for center in centers]\n",
    "#print(lon_centers)\n",
    "lat_centers = [center[2] for center in centers]\n",
    "#print(lat_centers)\n",
    "isopen_centers = [center[0] for center in centers]\n",
    "selected_clus=isopen_centers.index(max(isopen_centers))+1\n",
    "print(\"The maximum open rate of %0.4f is in cluster %d.\" % (max(isopen_centers), selected_clus))\n",
    "x_sel, y_sel = lat_centers[selected_clus-1], lon_centers[selected_clus-1]"
   ]
  },
  {
   "cell_type": "code",
   "execution_count": 36,
   "metadata": {},
   "outputs": [
    {
     "name": "stderr",
     "output_type": "stream",
     "text": [
      "C:\\Anaconda2\\envs\\hadoop\\lib\\site-packages\\mpl_toolkits\\basemap\\__init__.py:1698: MatplotlibDeprecationWarning: The axesPatch function was deprecated in version 2.1. Use Axes.patch instead.\n",
      "  limb = ax.axesPatch\n",
      "C:\\Anaconda2\\envs\\hadoop\\lib\\site-packages\\mpl_toolkits\\basemap\\__init__.py:1767: MatplotlibDeprecationWarning: The get_axis_bgcolor function was deprecated in version 2.0. Use get_facecolor instead.\n",
      "  axisbgc = ax.get_axis_bgcolor()\n",
      "C:\\Anaconda2\\envs\\hadoop\\lib\\site-packages\\mpl_toolkits\\basemap\\__init__.py:3222: MatplotlibDeprecationWarning: The ishold function was deprecated in version 2.0.\n",
      "  b = ax.ishold()\n",
      "C:\\Anaconda2\\envs\\hadoop\\lib\\site-packages\\mpl_toolkits\\basemap\\__init__.py:3231: MatplotlibDeprecationWarning: axes.hold is deprecated.\n",
      "    See the API Changes document (http://matplotlib.org/api/api_changes.html)\n",
      "    for more details.\n",
      "  ax.hold(b)\n"
     ]
    },
    {
     "data": {
      "image/png": "[encoded data removed]",
      "text/plain": [
       "<matplotlib.figure.Figure at 0xb70bf98>"
      ]
     },
     "metadata": {},
     "output_type": "display_data"
    }
   ],
   "source": [
    "from mpl_toolkits.basemap import Basemap\n",
    "import matplotlib.pyplot as plt\n",
    "import numpy as np\n",
    "plt.figure(figsize=(20,10))\n",
    "\n",
    "# miller projection\n",
    "#map = Basemap(projection='mill',lon_0=180, resolution='c')\n",
    "map = Basemap(projection='merc', \n",
    "              lat_0=0, lon_0=0,\n",
    "              resolution = 'l', area_thresh = 1000.0,\n",
    "              llcrnrlon=-130, llcrnrlat=30,\n",
    "              urcrnrlon=-70, urcrnrlat=50)\n",
    "# plot coastlines, draw label meridians and parallels.\n",
    "map.drawcountries()\n",
    "map.drawstates()\n",
    "map.drawparallels(np.arange(-90,90,30),labels=[1,0,0,0])\n",
    "map.drawmeridians(np.arange(map.lonmin,map.lonmax+30,60),labels=[0,0,0,1])\n",
    "# fill continents 'coral' (with zorder=0), color wet areas 'aqua'\n",
    "map.drawmapboundary(fill_color='blue')\n",
    "map.fillcontinents(color='oldlace',lake_color='blue')\n",
    "map.drawcoastlines()\n",
    "map.drawcountries(color='black')\n",
    "map.drawstates()\n",
    "#lats\n",
    "lats = [float(v) for v in yelp_business_dining_geo_pd['latitude']][:]\n",
    "lons = [float(v) for v in yelp_business_dining_geo_pd['longitude']][:]\n",
    "\n",
    "x, y = map(lons[:], lats[:])\n",
    "map.scatter(x,y,10,marker='x',color='m', zorder=50)\n",
    "\n",
    "x_cent, y_cent = map(lon_centers[:], lat_centers[:])\n",
    "map.scatter(x_cent, y_cent, marker='o', c=isopen_centers, zorder=50)\n",
    "labels = range(1,6,1)\n",
    "for label, xpt, ypt in zip(labels, x_cent, y_cent):\n",
    "    plt.text(xpt, ypt, label, fontsize=20, color='blue', zorder=100)\n",
    "plt.show()"
   ]
  },
  {
   "cell_type": "markdown",
   "metadata": {},
   "source": [
    "### Get the clusters for all of the points"
   ]
  },
  {
   "cell_type": "markdown",
   "metadata": {},
   "source": [
    "Append predictions to the dataframe."
   ]
  },
  {
   "cell_type": "code",
   "execution_count": 37,
   "metadata": {},
   "outputs": [],
   "source": [
    "predictions = clusters_df.transform(df_for_kmeans)\n",
    "predictions.take(10)\n",
    "yelp_business_geo_dining_w_pred  = predictions.join(yelp_business_dining, 'business_id')"
   ]
  },
  {
   "cell_type": "markdown",
   "metadata": {},
   "source": [
    "View the dataframe."
   ]
  },
  {
   "cell_type": "code",
   "execution_count": 38,
   "metadata": {},
   "outputs": [
    {
     "data": {
      "text/plain": [
       "[Row(business_id=u'PfOCPjBrlQAnz__NXj9h_w', features=DenseVector([1.0, -81.4757, 41.1195]), prediction=1, name=u'Brick House Tavern + Tap', neighborhood=None, address=u'581 Howe Ave', city=u'Cuyahoga Falls', state=u'OH', postal_code=u'44221', latitude=41.1195346, longitude=-81.4756898, stars=3.5, review_count=116, is_open=1, categories=u'American (New);Nightlife;Bars;Sandwiches;American (Traditional);Burgers;Restaurants'),\n",
       " Row(business_id=u'EsMcGiZaQuG1OOvL9iUFug', features=DenseVector([1.0, -80.0913, 40.6151]), prediction=1, name=u'Any Given Sundae', neighborhood=None, address=u'2612 Brandt School Rd', city=u'Wexford', state=u'PA', postal_code=u'15090', latitude=40.6151022445, longitude=-80.0913487465, stars=5.0, review_count=15, is_open=1, categories=u'Coffee & Tea;Ice Cream & Frozen Yogurt;Food'),\n",
       " Row(business_id=u'XOSRcvtaKc_Q5H1SAzN20A', features=DenseVector([0.0, -80.2128, 40.2415]), prediction=1, name=u'East Coast Coffee', neighborhood=None, address=u'737 West Pike St', city=u'Houston', state=u'PA', postal_code=u'15342', latitude=40.2415480142, longitude=-80.2128151059, stars=4.5, review_count=3, is_open=0, categories=u'Breakfast & Brunch;Gluten-Free;Coffee & Tea;Food;Restaurants;Sandwiches'),\n",
       " Row(business_id=u'fNMVV_ZX7CJSDWQGdOM8Nw', features=DenseVector([1.0, -80.8393, 35.2216]), prediction=3, name=u'Showmars Government Center', neighborhood=u'Uptown', address=u'600 E 4th St', city=u'Charlotte', state=u'NC', postal_code=u'28202', latitude=35.2216474, longitude=-80.8393449, stars=3.5, review_count=7, is_open=1, categories=u'Restaurants;American (Traditional)'),\n",
       " Row(business_id=u'Dj0S-Oe4ytRJzMGUPgYUkw', features=DenseVector([1.0, -82.0671, 41.3431]), prediction=1, name=u'Panera Bread', neighborhood=None, address=u'38295 Chestnut Ridge Rd', city=u'Elyria', state=u'OH', postal_code=u'44035', latitude=41.343078, longitude=-82.06714, stars=2.0, review_count=4, is_open=1, categories=u'Soup;Salad;Sandwiches;Restaurants'),\n",
       " Row(business_id=u'gAy4LYpsScrj8POnCW6btQ', features=DenseVector([0.0, -80.9906, 35.0473]), prediction=3, name=u'Toast Cafe', neighborhood=None, address=u'2429 Hwy 160 W', city=u'Fort Mill', state=u'SC', postal_code=u'29708', latitude=35.0472868, longitude=-80.9905588, stars=3.5, review_count=6, is_open=0, categories=u'Food;American (Traditional);Coffee & Tea;Restaurants'),\n",
       " Row(business_id=u'tRVx2c89coruPRwYhGTcTw', features=DenseVector([1.0, -81.787, 41.4768]), prediction=1, name=u'Yuzu', neighborhood=None, address=u'13603 Madison Ave', city=u'Lakewood', state=u'OH', postal_code=u'44107', latitude=41.4768463, longitude=-81.7869709, stars=3.5, review_count=78, is_open=1, categories=u'Nightlife;Izakaya;Comfort Food;Cocktail Bars;Asian Fusion;Bars;Japanese;Restaurants;Gastropubs;Tapas/Small Plates'),\n",
       " Row(business_id=u'zjySmTfL9WiMDVgp8-Jp3w', features=DenseVector([1.0, -80.8609, 35.5012]), prediction=3, name=u'TCBY', neighborhood=None, address=u'610 Jetton St, Ste 130', city=u'Davidson', state=u'NC', postal_code=u'28036', latitude=35.5012273, longitude=-80.8609494, stars=3.5, review_count=3, is_open=1, categories=u'Desserts;Ice Cream & Frozen Yogurt;Food'),\n",
       " Row(business_id=u'BnuzcebyB1AfxH0kjNWqSg', features=DenseVector([0.0, -75.5425, 40.041]), prediction=1, name=u\"Carrabba's Italian Grill\", neighborhood=None, address=u'245 Lancaster Ave', city=u'Frazer', state=u'PA', postal_code=u'19355', latitude=40.0410025289, longitude=-75.5424965117, stars=3.5, review_count=25, is_open=0, categories=u'Restaurants;Italian;Seafood'),\n",
       " Row(business_id=u'rDMptJYWtnMhpQu_rRXHng', features=DenseVector([1.0, -112.0644, 33.6071]), prediction=0, name=u\"McDonald's\", neighborhood=None, address=u'719 E Thunderbird Rd', city=u'Phoenix', state=u'AZ', postal_code=u'85022', latitude=33.6070702, longitude=-112.0643825, stars=1.0, review_count=10, is_open=1, categories=u'Fast Food;Burgers;Restaurants')]"
      ]
     },
     "execution_count": 38,
     "metadata": {},
     "output_type": "execute_result"
    }
   ],
   "source": [
    "yelp_business_geo_dining_w_pred.take(10)#Note that cluster numbering here starts from 0."
   ]
  },
  {
   "cell_type": "markdown",
   "metadata": {},
   "source": [
    "Filter out data not in the selected cluster."
   ]
  },
  {
   "cell_type": "code",
   "execution_count": 39,
   "metadata": {},
   "outputs": [
    {
     "data": {
      "text/plain": [
       "[Row(business_id=u'PfOCPjBrlQAnz__NXj9h_w', features=DenseVector([1.0, -81.4757, 41.1195]), prediction=1, name=u'Brick House Tavern + Tap', neighborhood=None, address=u'581 Howe Ave', city=u'Cuyahoga Falls', state=u'OH', postal_code=u'44221', latitude=41.1195346, longitude=-81.4756898, stars=3.5, review_count=116, is_open=1, categories=u'American (New);Nightlife;Bars;Sandwiches;American (Traditional);Burgers;Restaurants'),\n",
       " Row(business_id=u'EsMcGiZaQuG1OOvL9iUFug', features=DenseVector([1.0, -80.0913, 40.6151]), prediction=1, name=u'Any Given Sundae', neighborhood=None, address=u'2612 Brandt School Rd', city=u'Wexford', state=u'PA', postal_code=u'15090', latitude=40.6151022445, longitude=-80.0913487465, stars=5.0, review_count=15, is_open=1, categories=u'Coffee & Tea;Ice Cream & Frozen Yogurt;Food')]"
      ]
     },
     "execution_count": 39,
     "metadata": {},
     "output_type": "execute_result"
    }
   ],
   "source": [
    "#Note: selected clus started numbering from 1, so need to subtract 1 to match predictions\n",
    "yelp_business_geo_dining_selected_cluster = yelp_business_geo_dining_w_pred.filter(yelp_business_geo_dining_w_pred.prediction==(selected_clus-1))\n",
    "yelp_business_geo_dining_selected_cluster.take(2)"
   ]
  },
  {
   "cell_type": "markdown",
   "metadata": {},
   "source": [
    "Remove cluster label as it is no longer needed"
   ]
  },
  {
   "cell_type": "code",
   "execution_count": 41,
   "metadata": {},
   "outputs": [
    {
     "data": {
      "text/plain": [
       "[Row(business_id=u'PfOCPjBrlQAnz__NXj9h_w', features=DenseVector([1.0, -81.4757, 41.1195]), name=u'Brick House Tavern + Tap', neighborhood=None, address=u'581 Howe Ave', city=u'Cuyahoga Falls', state=u'OH', postal_code=u'44221', latitude=41.1195346, longitude=-81.4756898, stars=3.5, review_count=116, is_open=1, categories=u'American (New);Nightlife;Bars;Sandwiches;American (Traditional);Burgers;Restaurants'),\n",
       " Row(business_id=u'EsMcGiZaQuG1OOvL9iUFug', features=DenseVector([1.0, -80.0913, 40.6151]), name=u'Any Given Sundae', neighborhood=None, address=u'2612 Brandt School Rd', city=u'Wexford', state=u'PA', postal_code=u'15090', latitude=40.6151022445, longitude=-80.0913487465, stars=5.0, review_count=15, is_open=1, categories=u'Coffee & Tea;Ice Cream & Frozen Yogurt;Food')]"
      ]
     },
     "execution_count": 41,
     "metadata": {},
     "output_type": "execute_result"
    }
   ],
   "source": [
    "yelp_business_geo_dining_selected_cluster=yelp_business_geo_dining_selected_cluster.drop(\"prediction\")\n",
    "yelp_business_geo_dining_selected_cluster.take(2)"
   ]
  },
  {
   "cell_type": "code",
   "execution_count": 40,
   "metadata": {},
   "outputs": [],
   "source": [
    "from pyspark.sql.functions import udf\n",
    "from pyspark.sql import SQLContext\n",
    "sqlContext = SQLContext(sc_p)\n",
    "from pyspark.sql.types import *\n",
    "def SubType(s):\n",
    "    if \"French\" in s:\n",
    "        return \"French\"\n",
    "    elif \"Italian\" in s:\n",
    "        return \"Italian\" \n",
    "    elif \"Mexican\" in s:\n",
    "        return \"Mexican\"\n",
    "    elif \"Chinese\" in s or \"Indian\" in s or \"Japanese\" in s or \"Korean\" in s or \"Thai\" in s or \"Asian\" in s:\n",
    "        return \"Asian\"\n",
    "    elif \"American\" in s:\n",
    "        return \"American\"    \n",
    "    else:\n",
    "        return \"Other\"\n",
    "\n",
    "#American Food\n",
    "#Asian Fusion (Chinese, Indian, Japanese, Korean, Thai food and so on)\n",
    "#Frech Food\n",
    "#Italian Food\n",
    "#Mexican Food\n",
    "   \n",
    "subtype_function_udf = udf(SubType, StringType())"
   ]
  },
  {
   "cell_type": "code",
   "execution_count": 42,
   "metadata": {},
   "outputs": [],
   "source": [
    "def getLabel(s_in):\n",
    "\n",
    "    if s_in == \"American\" :\n",
    "        return 0\n",
    "    elif s_in == \"Italian\":\n",
    "        return 1   \n",
    "    elif s_in == \"French\":\n",
    "        return 2\n",
    "    elif s_in == \"Mexican\":\n",
    "        return 3\n",
    "    elif s_in == \"Asian\":\n",
    "        return 4    \n",
    "    else:#catchall just in case\n",
    "        return -1\n",
    "    \n",
    "getlabel_function_udf = udf(getLabel, IntegerType())"
   ]
  },
  {
   "cell_type": "code",
   "execution_count": 43,
   "metadata": {},
   "outputs": [],
   "source": [
    "def roundDouble(d_in):\n",
    "    d_in = round(float(d_in))\n",
    "    return int(d_in)    \n",
    "\n",
    "rounddobule_function_udf = udf(roundDouble, IntegerType())"
   ]
  },
  {
   "cell_type": "markdown",
   "metadata": {},
   "source": [
    "### Add food subcategory"
   ]
  },
  {
   "cell_type": "code",
   "execution_count": 44,
   "metadata": {},
   "outputs": [],
   "source": [
    "\n",
    "yelp_business_geo_dining_selected_cluster_df=yelp_business_geo_dining_selected_cluster\n",
    "yelp_business_geo_dining_selected_cluster_df=\\\n",
    "yelp_business_geo_dining_selected_cluster_df.withColumn('subcat',subtype_function_udf(yelp_business_geo_dining_selected_cluster_df['categories']))\n",
    "b_ids_in_cluster = yelp_business_geo_dining_selected_cluster_df.select('business_id').collect()\n",
    "b_subtypes_in_cluster = yelp_business_geo_dining_selected_cluster_df.select('subcat').collect()"
   ]
  },
  {
   "cell_type": "markdown",
   "metadata": {},
   "source": [
    "Get a list of the IDs and categories in the cluster and put them in a dictionary."
   ]
  },
  {
   "cell_type": "code",
   "execution_count": 45,
   "metadata": {},
   "outputs": [],
   "source": [
    "b_ids_in_cluster = [x[0].encode('utf-8') for x in b_ids_in_cluster]\n",
    "b_subtypes_in_cluster = [x[0].encode('utf-8') for x in b_subtypes_in_cluster] \n",
    "subtype_dictionary = dict(zip(b_ids_in_cluster, b_subtypes_in_cluster))"
   ]
  },
  {
   "cell_type": "markdown",
   "metadata": {},
   "source": [
    "Only leave non-Other items."
   ]
  },
  {
   "cell_type": "code",
   "execution_count": 46,
   "metadata": {},
   "outputs": [
    {
     "data": {
      "text/plain": [
       "False"
      ]
     },
     "execution_count": 46,
     "metadata": {},
     "output_type": "execute_result"
    }
   ],
   "source": [
    "subtype_dictionary_new = dict((key, value) for key,value in subtype_dictionary.iteritems() if value!=\"Other\")\n",
    "#Check\n",
    "\"Other\" in subtype_dictionary_new.values()"
   ]
  },
  {
   "cell_type": "markdown",
   "metadata": {},
   "source": [
    "View first ten entries of dictionary"
   ]
  },
  {
   "cell_type": "code",
   "execution_count": 47,
   "metadata": {},
   "outputs": [
    {
     "name": "stdout",
     "output_type": "stream",
     "text": [
      "{'HgSsIF4PpESGUMu-rNPg0g': 'American', 'ewleimx1N5LR580XGMNnTA': 'Italian', 'Ladt7CobMcCFZ8-iC5v0cw': 'American', 'nkubaPIxnt6ZYhjKsAe3yg': 'Asian', 'pRNz6EPc6ekD1lTxRZ3I4A': 'American', 'RHhjgjO1gVmO_xGCUYqLwA': 'American', '-06-Fdi30wJx-JA8P7CAng': 'Asian', 'QiqTldItGyzTw4P6dW8RZw': 'Mexican', 'XHK_1UM4CBZQ7RemDFr1mQ': 'Asian', 'KiG6wzSo1P5vFJ_YZjM7UA': 'Italian'}\n"
     ]
    }
   ],
   "source": [
    "print({k: subtype_dictionary_new[k] for k in subtype_dictionary_new.keys()[0:10]})"
   ]
  },
  {
   "cell_type": "markdown",
   "metadata": {},
   "source": [
    "# Text Classification"
   ]
  },
  {
   "cell_type": "markdown",
   "metadata": {},
   "source": [
    "### Read in yelp reviews"
   ]
  },
  {
   "cell_type": "markdown",
   "metadata": {},
   "source": [
    "While it may be a bad idea to read in such a large file with pandas in general, in this case, it is read in by chunking and only the part of each chunk needed is retained, so it is not too bad here."
   ]
  },
  {
   "cell_type": "code",
   "execution_count": 48,
   "metadata": {},
   "outputs": [
    {
     "name": "stdout",
     "output_type": "stream",
     "text": [
      "Completed chunk 2.\n",
      "Completed chunk 3.\n",
      "Completed chunk 4.\n",
      "Completed chunk 5.\n",
      "Completed chunk 6.\n",
      "Completed chunk 7.\n",
      "Completed chunk 8.\n",
      "Completed chunk 9.\n",
      "Completed chunk 10.\n",
      "Completed chunk 11.\n",
      "Completed chunk 12.\n",
      "Completed chunk 13.\n",
      "Completed chunk 14.\n",
      "Completed chunk 15.\n",
      "Completed chunk 16.\n",
      "Completed chunk 17.\n",
      "Completed chunk 18.\n",
      "Completed chunk 19.\n",
      "Completed chunk 20.\n",
      "Completed chunk 21.\n",
      "Completed chunk 22.\n",
      "Completed chunk 23.\n",
      "Completed chunk 24.\n",
      "Completed chunk 25.\n",
      "Completed chunk 26.\n",
      "Completed chunk 27.\n",
      "Completed chunk 28.\n",
      "Completed chunk 29.\n",
      "Completed chunk 30.\n",
      "Completed chunk 31.\n",
      "Completed chunk 32.\n",
      "Completed chunk 33.\n",
      "Completed chunk 34.\n",
      "Completed chunk 35.\n",
      "Completed chunk 36.\n",
      "Completed chunk 37.\n",
      "Completed chunk 38.\n",
      "Completed chunk 39.\n",
      "Completed chunk 40.\n",
      "Completed chunk 41.\n",
      "Completed chunk 42.\n",
      "Completed chunk 43.\n",
      "Completed chunk 44.\n",
      "Completed chunk 45.\n",
      "Completed chunk 46.\n",
      "Completed chunk 47.\n",
      "Completed chunk 48.\n",
      "Completed chunk 49.\n",
      "Completed chunk 50.\n",
      "Completed chunk 51.\n",
      "Completed chunk 52.\n",
      "Completed chunk 53.\n",
      "Completed chunk 54.\n",
      "Completed chunk 55.\n",
      "Completed chunk 56.\n",
      "Completed chunk 57.\n",
      "Completed chunk 58.\n",
      "Completed chunk 59.\n",
      "Completed chunk 60.\n",
      "Completed chunk 61.\n",
      "Completed chunk 62.\n",
      "Completed chunk 63.\n",
      "Completed chunk 64.\n",
      "Completed chunk 65.\n",
      "Completed chunk 66.\n",
      "Completed chunk 67.\n",
      "Completed chunk 68.\n",
      "Completed chunk 69.\n",
      "Completed chunk 70.\n",
      "Completed chunk 71.\n",
      "Completed chunk 72.\n",
      "Completed chunk 73.\n",
      "Completed chunk 74.\n",
      "Completed chunk 75.\n",
      "Completed chunk 76.\n",
      "Completed chunk 77.\n",
      "Completed chunk 78.\n",
      "Completed chunk 79.\n",
      "Completed chunk 80.\n",
      "Completed chunk 81.\n",
      "Completed chunk 82.\n",
      "Completed chunk 83.\n",
      "Completed chunk 84.\n",
      "Completed chunk 85.\n",
      "Completed chunk 86.\n",
      "Completed chunk 87.\n",
      "Completed chunk 88.\n",
      "Completed chunk 89.\n",
      "Completed chunk 90.\n",
      "Completed chunk 91.\n",
      "Completed chunk 92.\n",
      "Completed chunk 93.\n",
      "Completed chunk 94.\n",
      "Completed chunk 95.\n",
      "Completed chunk 96.\n",
      "Completed chunk 97.\n",
      "Completed chunk 98.\n",
      "Completed chunk 99.\n",
      "Completed chunk 100.\n",
      "Completed chunk 101.\n",
      "Completed chunk 102.\n",
      "Completed chunk 103.\n",
      "Completed chunk 104.\n",
      "Completed chunk 105.\n",
      "Completed chunk 106.\n",
      "Completed chunk 107.\n",
      "Completed chunk 108.\n",
      "Completed chunk 109.\n",
      "Completed chunk 110.\n",
      "Completed chunk 111.\n",
      "Completed chunk 112.\n",
      "Completed chunk 113.\n",
      "Completed chunk 114.\n",
      "Completed chunk 115.\n",
      "Completed chunk 116.\n",
      "Completed chunk 117.\n",
      "Completed chunk 118.\n",
      "Completed chunk 119.\n",
      "Completed chunk 120.\n",
      "Completed chunk 121.\n",
      "Completed chunk 122.\n",
      "Completed chunk 123.\n",
      "Completed chunk 124.\n",
      "Completed chunk 125.\n",
      "Completed chunk 126.\n",
      "Completed chunk 127.\n",
      "Completed chunk 128.\n",
      "Completed chunk 129.\n",
      "Completed chunk 130.\n",
      "Completed chunk 131.\n",
      "Completed chunk 132.\n",
      "Completed chunk 133.\n",
      "Completed chunk 134.\n",
      "Completed chunk 135.\n",
      "Completed chunk 136.\n",
      "Completed chunk 137.\n",
      "Completed chunk 138.\n",
      "Completed chunk 139.\n",
      "Completed chunk 140.\n",
      "Completed chunk 141.\n",
      "Completed chunk 142.\n",
      "Completed chunk 143.\n",
      "Completed chunk 144.\n",
      "Completed chunk 145.\n",
      "Completed chunk 146.\n",
      "Completed chunk 147.\n",
      "Completed chunk 148.\n",
      "Completed chunk 149.\n",
      "Completed chunk 150.\n",
      "Completed chunk 151.\n",
      "Completed chunk 152.\n",
      "Completed chunk 153.\n",
      "Completed chunk 154.\n",
      "Completed chunk 155.\n",
      "Completed chunk 156.\n",
      "Completed chunk 157.\n",
      "Completed chunk 158.\n",
      "Completed chunk 159.\n",
      "Completed chunk 160.\n",
      "Completed chunk 161.\n",
      "Completed chunk 162.\n",
      "Completed chunk 163.\n",
      "Completed chunk 164.\n",
      "Completed chunk 165.\n",
      "Completed chunk 166.\n",
      "Completed chunk 167.\n",
      "Completed chunk 168.\n",
      "Completed chunk 169.\n",
      "Completed chunk 170.\n",
      "Completed chunk 171.\n",
      "Completed chunk 172.\n",
      "Completed chunk 173.\n",
      "Completed chunk 174.\n",
      "Completed chunk 175.\n",
      "Completed chunk 176.\n",
      "Completed chunk 177.\n",
      "Completed chunk 178.\n",
      "Completed chunk 179.\n",
      "Completed chunk 180.\n",
      "Completed chunk 181.\n",
      "Completed chunk 182.\n",
      "Completed chunk 183.\n",
      "Completed chunk 184.\n",
      "Completed chunk 185.\n",
      "Completed chunk 186.\n",
      "Completed chunk 187.\n",
      "Completed chunk 188.\n",
      "Completed chunk 189.\n",
      "Completed chunk 190.\n",
      "Completed chunk 191.\n",
      "Completed chunk 192.\n",
      "Completed chunk 193.\n",
      "Completed chunk 194.\n",
      "Completed chunk 195.\n",
      "Completed chunk 196.\n",
      "Completed chunk 197.\n",
      "Completed chunk 198.\n",
      "Completed chunk 199.\n",
      "Completed chunk 200.\n",
      "Completed chunk 201.\n",
      "Completed chunk 202.\n",
      "Completed chunk 203.\n",
      "Completed chunk 204.\n",
      "Completed chunk 205.\n",
      "Completed chunk 206.\n",
      "Completed chunk 207.\n",
      "Completed chunk 208.\n",
      "Completed chunk 209.\n",
      "Completed chunk 210.\n",
      "Completed chunk 211.\n",
      "Completed chunk 212.\n",
      "Completed chunk 213.\n",
      "Completed chunk 214.\n",
      "Completed chunk 215.\n",
      "Completed chunk 216.\n",
      "Completed chunk 217.\n",
      "Completed chunk 218.\n",
      "Completed chunk 219.\n",
      "Completed chunk 220.\n",
      "Completed chunk 221.\n",
      "Completed chunk 222.\n",
      "Completed chunk 223.\n",
      "Completed chunk 224.\n",
      "Completed chunk 225.\n",
      "Completed chunk 226.\n",
      "Completed chunk 227.\n",
      "Completed chunk 228.\n",
      "Completed chunk 229.\n",
      "Completed chunk 230.\n",
      "Completed chunk 231.\n",
      "Completed chunk 232.\n",
      "Completed chunk 233.\n",
      "Completed chunk 234.\n",
      "Completed chunk 235.\n",
      "Completed chunk 236.\n",
      "Completed chunk 237.\n",
      "Completed chunk 238.\n",
      "Completed chunk 239.\n",
      "Completed chunk 240.\n",
      "Completed chunk 241.\n",
      "Completed chunk 242.\n",
      "Completed chunk 243.\n",
      "Completed chunk 244.\n",
      "Completed chunk 245.\n",
      "Completed chunk 246.\n",
      "Completed chunk 247.\n",
      "Completed chunk 248.\n",
      "Completed chunk 249.\n",
      "Completed chunk 250.\n",
      "Completed chunk 251.\n",
      "Completed chunk 252.\n",
      "Completed chunk 253.\n",
      "Completed chunk 254.\n",
      "Completed chunk 255.\n",
      "Completed chunk 256.\n",
      "Completed chunk 257.\n",
      "Completed chunk 258.\n",
      "Completed chunk 259.\n",
      "Completed chunk 260.\n",
      "Completed chunk 261.\n",
      "Completed chunk 262.\n",
      "Completed chunk 263.\n",
      "Completed chunk 264.\n",
      "Completed chunk 265.\n",
      "Completed chunk 266.\n",
      "Completed chunk 267.\n",
      "Completed chunk 268.\n",
      "Completed chunk 269.\n",
      "Completed chunk 270.\n",
      "Completed chunk 271.\n",
      "Completed chunk 272.\n",
      "Completed chunk 273.\n",
      "Completed chunk 274.\n",
      "Completed chunk 275.\n",
      "Completed chunk 276.\n",
      "Completed chunk 277.\n",
      "Completed chunk 278.\n",
      "Completed chunk 279.\n",
      "Completed chunk 280.\n",
      "Completed chunk 281.\n",
      "Completed chunk 282.\n",
      "Completed chunk 283.\n",
      "Completed chunk 284.\n",
      "Completed chunk 285.\n",
      "Completed chunk 286.\n",
      "Completed chunk 287.\n",
      "Completed chunk 288.\n",
      "Completed chunk 289.\n",
      "Completed chunk 290.\n",
      "Completed chunk 291.\n",
      "Completed chunk 292.\n",
      "Completed chunk 293.\n",
      "Completed chunk 294.\n",
      "Completed chunk 295.\n",
      "Completed chunk 296.\n",
      "Completed chunk 297.\n",
      "Completed chunk 298.\n",
      "Completed chunk 299.\n",
      "Completed chunk 300.\n",
      "Completed chunk 301.\n",
      "Completed chunk 302.\n",
      "Completed chunk 303.\n",
      "Completed chunk 304.\n",
      "Completed chunk 305.\n",
      "Completed chunk 306.\n",
      "Completed chunk 307.\n",
      "Completed chunk 308.\n",
      "Completed chunk 309.\n",
      "Completed chunk 310.\n",
      "Completed chunk 311.\n",
      "Completed chunk 312.\n",
      "Completed chunk 313.\n",
      "Completed chunk 314.\n",
      "Completed chunk 315.\n",
      "Completed chunk 316.\n",
      "Completed chunk 317.\n",
      "Completed chunk 318.\n",
      "Completed chunk 319.\n",
      "Completed chunk 320.\n",
      "Completed chunk 321.\n",
      "Completed chunk 322.\n",
      "Completed chunk 323.\n",
      "Completed chunk 324.\n",
      "Completed chunk 325.\n",
      "Completed chunk 326.\n",
      "Completed chunk 327.\n",
      "Completed chunk 328.\n",
      "Completed chunk 329.\n",
      "Completed chunk 330.\n",
      "Completed chunk 331.\n",
      "Completed chunk 332.\n",
      "Completed chunk 333.\n",
      "Completed chunk 334.\n",
      "Completed chunk 335.\n",
      "Completed chunk 336.\n",
      "Completed chunk 337.\n",
      "Completed chunk 338.\n",
      "Completed chunk 339.\n",
      "Completed chunk 340.\n",
      "Completed chunk 341.\n",
      "Completed chunk 342.\n",
      "Completed chunk 343.\n",
      "Completed chunk 344.\n",
      "Completed chunk 345.\n",
      "Completed chunk 346.\n",
      "Completed chunk 347.\n",
      "Completed chunk 348.\n",
      "Completed chunk 349.\n",
      "Completed chunk 350.\n",
      "Completed chunk 351.\n",
      "Completed chunk 352.\n",
      "Completed chunk 353.\n",
      "Completed chunk 354.\n",
      "Completed chunk 355.\n",
      "Completed chunk 356.\n",
      "Completed chunk 357.\n",
      "Completed chunk 358.\n",
      "Completed chunk 359.\n",
      "Completed chunk 360.\n",
      "Completed chunk 361.\n",
      "Completed chunk 362.\n",
      "Completed chunk 363.\n",
      "Completed chunk 364.\n",
      "Completed chunk 365.\n",
      "Completed chunk 366.\n",
      "Completed chunk 367.\n",
      "Completed chunk 368.\n",
      "Completed chunk 369.\n",
      "Completed chunk 370.\n",
      "Completed chunk 371.\n",
      "Completed chunk 372.\n",
      "Completed chunk 373.\n",
      "Completed chunk 374.\n",
      "Completed chunk 375.\n",
      "Completed chunk 376.\n",
      "Completed chunk 377.\n",
      "Completed chunk 378.\n",
      "Completed chunk 379.\n",
      "Completed chunk 380.\n",
      "Completed chunk 381.\n",
      "Completed chunk 382.\n",
      "Completed chunk 383.\n",
      "Completed chunk 384.\n",
      "Completed chunk 385.\n",
      "Completed chunk 386.\n",
      "Completed chunk 387.\n",
      "Completed chunk 388.\n",
      "Completed chunk 389.\n",
      "Completed chunk 390.\n",
      "Completed chunk 391.\n",
      "Completed chunk 392.\n",
      "Completed chunk 393.\n",
      "Completed chunk 394.\n",
      "Completed chunk 395.\n",
      "Completed chunk 396.\n",
      "Completed chunk 397.\n"
     ]
    },
    {
     "name": "stdout",
     "output_type": "stream",
     "text": [
      "Completed chunk 398.\n",
      "Completed chunk 399.\n",
      "Completed chunk 400.\n",
      "Completed chunk 401.\n",
      "Completed chunk 402.\n",
      "Completed chunk 403.\n",
      "Completed chunk 404.\n",
      "Completed chunk 405.\n",
      "Completed chunk 406.\n",
      "Completed chunk 407.\n",
      "Completed chunk 408.\n",
      "Completed chunk 409.\n",
      "Completed chunk 410.\n",
      "Completed chunk 411.\n",
      "Completed chunk 412.\n",
      "Completed chunk 413.\n",
      "Completed chunk 414.\n",
      "Completed chunk 415.\n",
      "Completed chunk 416.\n",
      "Completed chunk 417.\n",
      "Completed chunk 418.\n",
      "Completed chunk 419.\n",
      "Completed chunk 420.\n",
      "Completed chunk 421.\n",
      "Completed chunk 422.\n",
      "Completed chunk 423.\n",
      "Completed chunk 424.\n",
      "Completed chunk 425.\n",
      "Completed chunk 426.\n",
      "Completed chunk 427.\n",
      "Completed chunk 428.\n",
      "Completed chunk 429.\n",
      "Completed chunk 430.\n",
      "Completed chunk 431.\n",
      "Completed chunk 432.\n",
      "Completed chunk 433.\n",
      "Completed chunk 434.\n",
      "Completed chunk 435.\n",
      "Completed chunk 436.\n",
      "Completed chunk 437.\n",
      "Completed chunk 438.\n",
      "Completed chunk 439.\n",
      "Completed chunk 440.\n",
      "Completed chunk 441.\n",
      "Completed chunk 442.\n",
      "Completed chunk 443.\n",
      "Completed chunk 444.\n",
      "Completed chunk 445.\n",
      "Completed chunk 446.\n",
      "Completed chunk 447.\n",
      "Completed chunk 448.\n",
      "Completed chunk 449.\n",
      "Completed chunk 450.\n",
      "Completed chunk 451.\n",
      "Completed chunk 452.\n",
      "Completed chunk 453.\n",
      "Completed chunk 454.\n",
      "Completed chunk 455.\n",
      "Completed chunk 456.\n",
      "Completed chunk 457.\n",
      "Completed chunk 458.\n",
      "Completed chunk 459.\n",
      "Completed chunk 460.\n",
      "Completed chunk 461.\n",
      "Completed chunk 462.\n",
      "Completed chunk 463.\n",
      "Completed chunk 464.\n",
      "Completed chunk 465.\n",
      "Completed chunk 466.\n",
      "Completed chunk 467.\n",
      "Completed chunk 468.\n",
      "Completed chunk 469.\n",
      "Completed chunk 470.\n",
      "Completed chunk 471.\n",
      "Completed chunk 472.\n",
      "Completed chunk 473.\n",
      "Completed chunk 474.\n",
      "Completed chunk 475.\n",
      "Completed chunk 476.\n",
      "Completed chunk 477.\n",
      "Completed chunk 478.\n",
      "Completed chunk 479.\n",
      "Completed chunk 480.\n",
      "Completed chunk 481.\n",
      "Completed chunk 482.\n",
      "Completed chunk 483.\n",
      "Completed chunk 484.\n",
      "Completed chunk 485.\n",
      "Completed chunk 486.\n",
      "Completed chunk 487.\n",
      "Completed chunk 488.\n",
      "Completed chunk 489.\n",
      "Completed chunk 490.\n",
      "Completed chunk 491.\n",
      "Completed chunk 492.\n",
      "Completed chunk 493.\n",
      "Completed chunk 494.\n",
      "Completed chunk 495.\n",
      "Completed chunk 496.\n",
      "Completed chunk 497.\n",
      "Completed chunk 498.\n",
      "Completed chunk 499.\n",
      "Completed chunk 500.\n",
      "Completed chunk 501.\n",
      "Completed chunk 502.\n",
      "Completed chunk 503.\n",
      "Completed chunk 504.\n",
      "Completed chunk 505.\n",
      "Completed chunk 506.\n",
      "Completed chunk 507.\n",
      "Completed chunk 508.\n",
      "Completed chunk 509.\n",
      "Completed chunk 510.\n",
      "Completed chunk 511.\n",
      "Completed chunk 512.\n",
      "Completed chunk 513.\n",
      "Completed chunk 514.\n",
      "Completed chunk 515.\n",
      "Completed chunk 516.\n",
      "Completed chunk 517.\n",
      "Completed chunk 518.\n",
      "Completed chunk 519.\n",
      "Completed chunk 520.\n",
      "Completed chunk 521.\n",
      "Completed chunk 522.\n",
      "Completed chunk 523.\n",
      "Completed chunk 524.\n",
      "Completed chunk 525.\n",
      "Completed chunk 526.\n",
      "Completed chunk 527.\n",
      "Completed chunk 528.\n",
      "It took 108.837000132 seconds to read in the file.\n",
      "Average time for processing one chunk of528chunks is 0.00286717975840849.\n",
      "There were 528 chunks and 5280000 rows all togehter.\n",
      "There were 112572 rows selected.\n",
      "There were 112572 rows selected after dropping.\n"
     ]
    }
   ],
   "source": [
    "import time\n",
    "chunksize = 10000\n",
    "filename=\"yelp_review.csv\"\n",
    "count=1\n",
    "chunks = []\n",
    "\n",
    "\n",
    "beg_ts = time.time()\n",
    "avg_time_chunk=[]\n",
    "num_chunks=0\n",
    "for chunk in pd.read_csv(filename, chunksize=chunksize, usecols=[\"business_id\", \"stars\", \"text\"]):#names=[\"business_id\", \"stars\"]\n",
    "    ch_start=time.time()\n",
    "    num_chunks = num_chunks+1\n",
    "   \n",
    "    #process_data(chunk, num_chunks)\n",
    "    chunk = chunk[chunk[\"business_id\"].isin(subtype_dictionary_new.keys())]\n",
    "    chunks.append(chunk)\n",
    "    \n",
    "    ch_end=time.time()\n",
    "    avg_time_chunk.append(ch_end-ch_start)\n",
    "    \n",
    "    count+=1\n",
    "    print(\"Completed chunk %d.\" %(count))\n",
    "    if count>500000:\n",
    "        break\n",
    "end_ts=time.time()\n",
    "print (\"It took \" + str(end_ts - beg_ts)) + str(\" seconds to read in the file.\")\n",
    "print (\"Average time for processing one chunk of\"+ str(count) + \"chunks is \"+ str( np.mean(avg_time_chunk)))+ str(\".\")\n",
    "\n",
    "print(\"There were %d chunks and %d rows all togehter.\" %(count, count*chunksize))\n",
    "df_pd = pd.concat(chunks, ignore_index=True)\n",
    "print(\"There were %d rows selected.\" %(len(df_pd)))\n",
    "df_pd.dropna(axis=0, how=\"any\", inplace=True)\n",
    "n_final = len(df_pd)\n",
    "print(\"There were %d rows selected after dropping.\" %(n_final))"
   ]
  },
  {
   "cell_type": "code",
   "execution_count": 49,
   "metadata": {},
   "outputs": [
    {
     "data": {
      "text/plain": [
       "2310"
      ]
     },
     "execution_count": 49,
     "metadata": {},
     "output_type": "execute_result"
    }
   ],
   "source": [
    "len(subtype_dictionary_new.keys())#number of keys"
   ]
  },
  {
   "cell_type": "code",
   "execution_count": 50,
   "metadata": {},
   "outputs": [],
   "source": [
    "review_df_filtered = spark_p.createDataFrame(df_pd)"
   ]
  },
  {
   "cell_type": "code",
   "execution_count": 51,
   "metadata": {},
   "outputs": [],
   "source": [
    "def nonasciitoascii(unicodestring):\n",
    "  return unicodestring.encode(\"ascii\",\"ignore\")\n",
    "convertedudf = udf(nonasciitoascii)"
   ]
  },
  {
   "cell_type": "code",
   "execution_count": 52,
   "metadata": {},
   "outputs": [],
   "source": [
    "review_df_filtered = review_df_filtered.withColumn(\"text_con\", convertedudf(review_df_filtered.text)).drop(\"text\")\n"
   ]
  },
  {
   "cell_type": "code",
   "execution_count": 53,
   "metadata": {},
   "outputs": [
    {
     "name": "stdout",
     "output_type": "stream",
     "text": [
      "+-------+--------------------+------------------+--------------------+\n",
      "|summary|         business_id|             stars|            text_con|\n",
      "+-------+--------------------+------------------+--------------------+\n",
      "|  count|              112572|            112572|              112572|\n",
      "|   mean|                null|  3.67398642646484|                45.0|\n",
      "| stddev|                null|1.3444105643669082|   49.49747468305833|\n",
      "|    min|--I7YYLada0tSLkOR...|                 1|                    |\n",
      "|    max|zzwhN7x37nyjP0ZM8...|                 5|~~~The Deal-o ~~~...|\n",
      "+-------+--------------------+------------------+--------------------+\n",
      "\n"
     ]
    }
   ],
   "source": [
    "review_df_filtered.limit(n_final).describe(\"business_id\", \"stars\", \"text_con\").show()"
   ]
  },
  {
   "cell_type": "code",
   "execution_count": 54,
   "metadata": {},
   "outputs": [
    {
     "name": "stdout",
     "output_type": "stream",
     "text": [
      "+-----------+-----+--------+\n",
      "|business_id|stars|text_con|\n",
      "+-----------+-----+--------+\n",
      "+-----------+-----+--------+\n",
      "\n"
     ]
    }
   ],
   "source": [
    "#Check that there are no businesses that are not in the cluster.\n",
    "from pyspark.sql.functions import col\n",
    "review_df_filtered.filter(~col(\"business_id\").isin(subtype_dictionary_new.keys())).show(1,False)"
   ]
  },
  {
   "cell_type": "markdown",
   "metadata": {},
   "source": [
    "Aggregrate reviews by business"
   ]
  },
  {
   "cell_type": "code",
   "execution_count": 54,
   "metadata": {},
   "outputs": [],
   "source": [
    "from pyspark.sql.functions import collect_list\n",
    "from pyspark.sql.functions import avg\n",
    "review_df_filtered1 = review_df_filtered.groupby(\"business_id\").\\\n",
    "agg(collect_list(\"text_con\"), avg(\"stars\")).drop(\"stars\")"
   ]
  },
  {
   "cell_type": "code",
   "execution_count": 55,
   "metadata": {},
   "outputs": [],
   "source": [
    "review_df_filtered1=review_df_filtered1.sort(\"business_id\")"
   ]
  },
  {
   "cell_type": "code",
   "execution_count": 56,
   "metadata": {},
   "outputs": [
    {
     "data": {
      "text/plain": [
       "2310"
      ]
     },
     "execution_count": 56,
     "metadata": {},
     "output_type": "execute_result"
    }
   ],
   "source": [
    "review_df_filtered1.count()"
   ]
  },
  {
   "cell_type": "code",
   "execution_count": 57,
   "metadata": {},
   "outputs": [
    {
     "data": {
      "text/plain": [
       "[('business_id', 'string'),\n",
       " ('collect_list(text_con)', 'array<string>'),\n",
       " ('avg(stars)', 'double')]"
      ]
     },
     "execution_count": 57,
     "metadata": {},
     "output_type": "execute_result"
    }
   ],
   "source": [
    "review_df_filtered1.dtypes"
   ]
  },
  {
   "cell_type": "code",
   "execution_count": 58,
   "metadata": {},
   "outputs": [],
   "source": [
    "#Add food subcategories.\n",
    "from pyspark.sql.functions import lit\n",
    "from pyspark.sql.functions import col, create_map, lit\n",
    "from itertools import chain\n",
    "\n",
    "mapping_expr = create_map([lit(x) for x in chain(*subtype_dictionary_new.items())])\n",
    "\n",
    "review_df_filtered_temp=review_df_filtered1.withColumn(\"subcat\", mapping_expr.getItem(col(\"business_id\")))\n"
   ]
  },
  {
   "cell_type": "code",
   "execution_count": 59,
   "metadata": {},
   "outputs": [
    {
     "name": "stdout",
     "output_type": "stream",
     "text": [
      "+--------+-----+\n",
      "|  subcat|count|\n",
      "+--------+-----+\n",
      "| Mexican|  239|\n",
      "| Italian|  429|\n",
      "|  French|   21|\n",
      "|   Asian|  497|\n",
      "|American| 1124|\n",
      "+--------+-----+\n",
      "\n"
     ]
    }
   ],
   "source": [
    "review_df_filtered_temp.groupby('subcat').count().show()\n"
   ]
  },
  {
   "cell_type": "markdown",
   "metadata": {},
   "source": [
    "Add numeric food label for category."
   ]
  },
  {
   "cell_type": "code",
   "execution_count": 60,
   "metadata": {},
   "outputs": [],
   "source": [
    "review_df_filtered_e=review_df_filtered_temp.withColumn(\"label\", getlabel_function_udf(review_df_filtered_temp['subcat']))"
   ]
  },
  {
   "cell_type": "code",
   "execution_count": 61,
   "metadata": {},
   "outputs": [
    {
     "name": "stdout",
     "output_type": "stream",
     "text": [
      "+-----+--------+-----+\n",
      "|label|  subcat|count|\n",
      "+-----+--------+-----+\n",
      "|    1| Italian|  429|\n",
      "|    2|  French|   21|\n",
      "|    0|American| 1124|\n",
      "|    4|   Asian|  497|\n",
      "|    3| Mexican|  239|\n",
      "+-----+--------+-----+\n",
      "\n"
     ]
    }
   ],
   "source": [
    "#Check\n",
    "review_df_filtered_e.groupby('label', 'subcat').count().show()"
   ]
  },
  {
   "cell_type": "code",
   "execution_count": 62,
   "metadata": {},
   "outputs": [
    {
     "name": "stdout",
     "output_type": "stream",
     "text": [
      "+--------+------------------+\n",
      "|  subcat|   avg(avg(stars))|\n",
      "+--------+------------------+\n",
      "| Mexican|3.3305667575021887|\n",
      "| Italian| 3.447052329257577|\n",
      "|  French| 4.087999053900416|\n",
      "|   Asian| 3.537010405738783|\n",
      "|American| 3.419426785587261|\n",
      "+--------+------------------+\n",
      "\n"
     ]
    }
   ],
   "source": [
    " review_df_filtered_e.groupby('subcat').agg(avg('avg(stars)')).show()"
   ]
  },
  {
   "cell_type": "code",
   "execution_count": 63,
   "metadata": {},
   "outputs": [],
   "source": [
    "review_df_filtered_e = review_df_filtered_e.withColumn(\"avg(stars)1\", \n",
    "                                                       rounddobule_function_udf(review_df_filtered_temp[\"avg(stars)\"]))"
   ]
  },
  {
   "cell_type": "code",
   "execution_count": 64,
   "metadata": {},
   "outputs": [
    {
     "data": {
      "text/plain": [
       "[Row(avg(stars)1=3), Row(avg(stars)1=4), Row(avg(stars)1=4)]"
      ]
     },
     "execution_count": 64,
     "metadata": {},
     "output_type": "execute_result"
    }
   ],
   "source": [
    "review_df_filtered_e.select('avg(stars)1').take(3)"
   ]
  },
  {
   "cell_type": "code",
   "execution_count": 65,
   "metadata": {},
   "outputs": [],
   "source": [
    "review_df_filtered_e=review_df_filtered_e.\\\n",
    "withColumn('text', review_df_filtered_e['collect_list(text_con)'].cast(\"string\"))\n",
    "#review_df_filtered_e=review_df_filtered_e.drop('collect_list(text_con)')\n",
    "#review_df_filtered_e.show(1)"
   ]
  },
  {
   "cell_type": "code",
   "execution_count": 66,
   "metadata": {},
   "outputs": [
    {
     "data": {
      "text/plain": [
       "[('business_id', 'string'),\n",
       " ('collect_list(text_con)', 'array<string>'),\n",
       " ('avg(stars)', 'double'),\n",
       " ('subcat', 'string'),\n",
       " ('label', 'int'),\n",
       " ('avg(stars)1', 'int'),\n",
       " ('text', 'string')]"
      ]
     },
     "execution_count": 66,
     "metadata": {},
     "output_type": "execute_result"
    }
   ],
   "source": [
    "review_df_filtered_e.dtypes"
   ]
  },
  {
   "cell_type": "code",
   "execution_count": 67,
   "metadata": {},
   "outputs": [
    {
     "name": "stdout",
     "output_type": "stream",
     "text": [
      "+--------+------------------+\n",
      "|  subcat|  avg(avg(stars)1)|\n",
      "+--------+------------------+\n",
      "| Mexican|3.3305439330543933|\n",
      "| Italian|3.4428904428904428|\n",
      "|  French| 4.142857142857143|\n",
      "|   Asian|3.5593561368209254|\n",
      "|American| 3.445729537366548|\n",
      "+--------+------------------+\n",
      "\n"
     ]
    }
   ],
   "source": [
    "summary = review_df_filtered_e.groupby('subcat').agg(avg('avg(stars)1'))\n",
    "summary.show()"
   ]
  },
  {
   "cell_type": "markdown",
   "metadata": {},
   "source": [
    "## Select the category."
   ]
  },
  {
   "cell_type": "markdown",
   "metadata": {},
   "source": [
    "Select the category with the highest number of stars."
   ]
  },
  {
   "cell_type": "code",
   "execution_count": 68,
   "metadata": {},
   "outputs": [
    {
     "name": "stdout",
     "output_type": "stream",
     "text": [
      "The category with the highest average number of stars is French.\n"
     ]
    }
   ],
   "source": [
    "row_max=summary.agg({'avg(avg(stars)1)':'max'}).collect()[0]\n",
    "max_stars=row_max[\"max(avg(avg(stars)1))\"]\n",
    "#print max_stars\n",
    "categ_sel = str(summary.filter(col('avg(avg(stars)1)')==max_stars).collect()[0][0])\n",
    "print (\"The category with the highest average number of stars is %s.\" % categ_sel)\n"
   ]
  },
  {
   "cell_type": "code",
   "execution_count": 69,
   "metadata": {},
   "outputs": [
    {
     "name": "stdout",
     "output_type": "stream",
     "text": [
      "Choosing a category with more points as the chosen one ony had 21.\n"
     ]
    }
   ],
   "source": [
    "count_sel = row1 = review_df_filtered_e.groupby('label', 'subcat').count().filter(col('subcat')==categ_sel).select('count').collect()[0][0]\n",
    "if count_sel<100:\n",
    "    print(\"Choosing a category with more points as the chosen one ony had %d.\" %count_sel)"
   ]
  },
  {
   "cell_type": "code",
   "execution_count": 70,
   "metadata": {},
   "outputs": [
    {
     "name": "stdout",
     "output_type": "stream",
     "text": [
      "+--------+------------------+\n",
      "|  subcat|  avg(avg(stars)1)|\n",
      "+--------+------------------+\n",
      "| Mexican|3.3305439330543933|\n",
      "| Italian|3.4428904428904428|\n",
      "|   Asian|3.5593561368209254|\n",
      "|American| 3.445729537366548|\n",
      "+--------+------------------+\n",
      "\n"
     ]
    }
   ],
   "source": [
    "if count_sel<100:\n",
    "    summary_red = summary.filter(col('subcat')!=categ_sel)\n",
    "    summary_red.show()"
   ]
  },
  {
   "cell_type": "code",
   "execution_count": 71,
   "metadata": {},
   "outputs": [
    {
     "name": "stdout",
     "output_type": "stream",
     "text": [
      "3.55935613682\n",
      "The category with the highest average number of stars with enough points is Asian.\n"
     ]
    }
   ],
   "source": [
    "if count_sel<100:\n",
    "    row_max=summary_red.agg({'avg(avg(stars)1)':'max'}).collect()[0]\n",
    "    max_stars=row_max[\"max(avg(avg(stars)1))\"]\n",
    "    print max_stars    \n",
    "    categ_sel = str(summary_red.filter(col('avg(avg(stars)1)')==max_stars).collect()[0][0])\n",
    "    print (\"The category with the highest average number of stars with enough points is %s.\" % categ_sel)"
   ]
  },
  {
   "cell_type": "markdown",
   "metadata": {},
   "source": [
    "## Set up the pipeline to prepare for classification (supervised learning)."
   ]
  },
  {
   "cell_type": "code",
   "execution_count": 72,
   "metadata": {},
   "outputs": [],
   "source": [
    "from pyspark.ml.feature import RegexTokenizer\n",
    "\n",
    "#Get alpha only rather than #\\w+\n",
    "regexTokenizer = RegexTokenizer(gaps = False, pattern = '[a-zA-Z]+', inputCol = 'text', outputCol = 'features_token', minTokenLength=2).setToLowercase(True)\n"
   ]
  },
  {
   "cell_type": "code",
   "execution_count": 73,
   "metadata": {},
   "outputs": [],
   "source": [
    "from pyspark.ml.feature import StopWordsRemover\n",
    "#Display stop words\n",
    "StopWordsRemover.loadDefaultStopWords(\"english\")\n",
    "stopwordsRemover = StopWordsRemover(inputCol = regexTokenizer.getOutputCol(), outputCol = \"no_sw\" )\n"
   ]
  },
  {
   "cell_type": "code",
   "execution_count": 74,
   "metadata": {},
   "outputs": [],
   "source": [
    "from pyspark.ml.feature import CountVectorizer\n",
    "# bag of words count\n",
    "countVectors = CountVectorizer(inputCol=stopwordsRemover.getOutputCol(), outputCol=\"features_before_scaling\", vocabSize=100, minDF=20)\n"
   ]
  },
  {
   "cell_type": "code",
   "execution_count": 75,
   "metadata": {},
   "outputs": [],
   "source": [
    "from pyspark.ml.feature import IDF\n",
    "idfIgnore = IDF(minDocFreq=20,inputCol=countVectors.getOutputCol(),outputCol=\"features\")"
   ]
  },
  {
   "cell_type": "code",
   "execution_count": 76,
   "metadata": {},
   "outputs": [],
   "source": [
    "from pyspark.ml import Pipeline\n",
    "#pipeline = Pipeline(stages=[regexTokenizer, stopwordsRemover, countVectors, idfIgnore]) \n",
    "pipeline = Pipeline(stages=[regexTokenizer, stopwordsRemover, countVectors, idfIgnore]) "
   ]
  },
  {
   "cell_type": "code",
   "execution_count": 77,
   "metadata": {},
   "outputs": [],
   "source": [
    "pipelineFit = pipeline.fit(review_df_filtered_e)\n",
    "dataset = pipelineFit.transform(review_df_filtered_e)\n",
    "stages = pipelineFit.stages"
   ]
  },
  {
   "cell_type": "markdown",
   "metadata": {},
   "source": [
    "View the results of the pipeline."
   ]
  },
  {
   "cell_type": "code",
   "execution_count": 78,
   "metadata": {},
   "outputs": [
    {
     "name": "stdout",
     "output_type": "stream",
     "text": [
      "[u'food', u'good', u'place', u'great', u'like', u'service', u'one', u'time', u'get', u'back', u'go', u'really', u'restaurant', u'ordered', u'also', u'menu', u've', u'chicken', u'us', u'got', u'nice', u'well', u'bar', u'order', u'best', u'delicious', u'little', u'try', u'came', u'even', u'sauce', u'always', u'love', u'cheese', u'definitely', u'pretty', u'much', u'first', u'didn', u'went', u'beer', u'never', u'table', u'dinner', u'meal', u'friendly', u'pizza', u'night', u'staff', u'made', u'come', u'eat', u'salad', u'wait', u'better', u'people', u'lunch', u'fresh', u'two', u'experience', u'amazing', u'make', u'fries', u're', u'think', u'side', u'way', u'ever', u'server', u'everything', u'burger', u'drinks', u'take', u'atmosphere', u'know', u'say', u'going', u'bit', u'area', u'right', u'minutes', u'pittsburgh', u'sandwich', u'small', u'still', u'said', u'want', u'bad', u'around', u'excellent', u'though', u'times', u'sure', u'wasn', u'dish', u'recommend', u'something', u'll', u'favorite', u'tried']\n"
     ]
    }
   ],
   "source": [
    "from pyspark.ml.feature import CountVectorizerModel\n",
    "\n",
    "vectorizers = [s for s in stages if isinstance(s, CountVectorizerModel)]\n",
    "vocab = [v.vocabulary for v in vectorizers][0]\n",
    "print(vocab)"
   ]
  },
  {
   "cell_type": "markdown",
   "metadata": {},
   "source": [
    "The IDF output is a scaled version of the countVectorizer output, which can be dropped."
   ]
  },
  {
   "cell_type": "code",
   "execution_count": 79,
   "metadata": {},
   "outputs": [],
   "source": [
    "dataset=dataset.drop('text_con', 'no_sw', 'features_token', 'features_before_scaling', 'text')#intermediate outputs not needed"
   ]
  },
  {
   "cell_type": "code",
   "execution_count": 80,
   "metadata": {},
   "outputs": [
    {
     "data": {
      "text/plain": [
       "Row(features=SparseVector(100, {0: 1.2768, 1: 2.5603, 2: 1.9066, 3: 2.9829, 4: 1.2225, 5: 3.4721, 6: 1.2474, 7: 1.8735, 8: 1.7413, 9: 2.5728, 10: 1.9827, 11: 3.9491, 12: 1.462, 13: 2.3206, 14: 1.9703, 15: 1.4486, 16: 1.1923, 17: 5.2921, 18: 4.6689, 19: 3.2429, 20: 2.0886, 21: 1.6354, 22: 11.3362, 23: 1.2249, 24: 1.5162, 25: 1.1054, 26: 1.0936, 27: 1.1233, 28: 3.292, 29: 1.9306, 30: 2.737, 31: 2.6971, 32: 0.7984, 33: 0.4111, 34: 2.4105, 35: 3.5609, 36: 2.1298, 37: 2.0806, 38: 3.6943, 39: 1.9416, 40: 15.7018, 41: 0.7644, 42: 4.7764, 43: 2.0542, 44: 0.9318, 45: 3.1333, 47: 4.0513, 48: 1.8451, 49: 1.5496, 50: 3.0273, 51: 0.9378, 52: 3.7455, 53: 2.783, 54: 1.7886, 55: 0.7215, 56: 1.0399, 57: 0.8376, 58: 1.7617, 59: 1.6694, 60: 2.4981, 61: 0.5031, 62: 14.7016, 63: 0.9071, 64: 1.8494, 65: 2.5084, 66: 1.9545, 67: 1.7961, 68: 3.3557, 69: 0.6342, 70: 14.0523, 71: 3.7942, 72: 0.8652, 73: 4.8984, 75: 3.0236, 76: 1.6138, 77: 1.5592, 78: 1.3533, 79: 0.593, 80: 2.1836, 82: 12.1107, 83: 0.7517, 84: 0.3106, 85: 3.5734, 86: 0.9282, 87: 1.607, 88: 2.2934, 90: 1.0843, 91: 1.5059, 92: 1.2637, 93: 2.2664, 95: 1.4185, 96: 0.6762, 97: 0.6533, 98: 0.4256, 99: 0.7719}))"
      ]
     },
     "execution_count": 80,
     "metadata": {},
     "output_type": "execute_result"
    }
   ],
   "source": [
    "dataset.select('features').head()"
   ]
  },
  {
   "cell_type": "code",
   "execution_count": 81,
   "metadata": {},
   "outputs": [
    {
     "name": "stdout",
     "output_type": "stream",
     "text": [
      "+---------------------------------------------------------------------------------------------------------------------------------------------------------------------------------------------------------------------------------------------------------------------------------------------------------------------------------------------------------------------------------------------------------------------------------------------------------------------------------------------------------------------------------------------------------------------------------------------------------------------------------------------------------------------------------------------------------------------------------------------------------------------------------------------------------------------------------------------------------------------------------------------------------------------------------------------------------------------------------------------------------------------------------------------------------------------------------------------------------------------------------------------------------------------------------------------------------------------------------------------------------------------------------------------------------------------------------------------------------------------------------------------------------------------------------------------------------------------------------------------------------------------------------------------------------------------------------------------------------------------------------------------------------------------------------------------------------------------------------------------------------------------------------------------------------------------------------------------------------------------------------------------------------------------------------------------------------------------------------------------------------------------------------------------------------------------------------------------------------------------------------------------------------------------------------------------------+-----------+\n",
      "|features                                                                                                                                                                                                                                                                                                                                                                                                                                                                                                                                                                                                                                                                                                                                                                                                                                                                                                                                                                                                                                                                                                                                                                                                                                                                                                                                                                                                                                                                                                                                                                                                                                                                                                                                                                                                                                                                                                                                                                                                                                                                                                                                                                                           |avg(stars)1|\n",
      "+---------------------------------------------------------------------------------------------------------------------------------------------------------------------------------------------------------------------------------------------------------------------------------------------------------------------------------------------------------------------------------------------------------------------------------------------------------------------------------------------------------------------------------------------------------------------------------------------------------------------------------------------------------------------------------------------------------------------------------------------------------------------------------------------------------------------------------------------------------------------------------------------------------------------------------------------------------------------------------------------------------------------------------------------------------------------------------------------------------------------------------------------------------------------------------------------------------------------------------------------------------------------------------------------------------------------------------------------------------------------------------------------------------------------------------------------------------------------------------------------------------------------------------------------------------------------------------------------------------------------------------------------------------------------------------------------------------------------------------------------------------------------------------------------------------------------------------------------------------------------------------------------------------------------------------------------------------------------------------------------------------------------------------------------------------------------------------------------------------------------------------------------------------------------------------------------------+-----------+\n",
      "|(100,[0,1,2,3,4,5,6,7,8,9,10,11,12,13,14,15,16,17,18,19,20,21,22,23,24,25,26,27,28,29,30,31,32,33,34,35,36,37,38,39,40,41,42,43,44,45,47,48,49,50,51,52,53,54,55,56,57,58,59,60,61,62,63,64,65,66,67,68,69,70,71,72,73,75,76,77,78,79,80,82,83,84,85,86,87,88,90,91,92,93,95,96,97,98,99],[1.2767670066696293,2.560320645904423,1.9065758898265661,2.9829335245798894,1.2225171469551661,3.4720813474208727,1.2473782138187692,1.8734801580340723,1.7413435701322717,2.5727869010369733,1.9826758608898623,3.9490993213851913,1.462034908419969,2.320595020574951,1.9702509537004167,1.4485842760264074,1.192346449681475,5.292093899160732,4.668893863402325,3.24288591075809,2.0886129246083662,1.6354434767401298,11.336232342596608,1.2249465075190482,1.516244133304273,1.1054069014125851,1.0935902446083745,1.1232959760579164,3.2920233795233114,1.9305875053490191,2.7370369850108722,2.6971483565802425,0.7984079174746412,0.41110625997384415,2.4104823036911283,3.56087223435307,2.1298359567609366,2.080628617121735,3.6943187171081027,1.941579196156237,15.70175762346146,0.7644031461945322,4.776389484402276,2.054247115105739,0.931763205187143,3.1333383526504304,4.051320871844692,1.845086798285681,1.5495714963638478,3.027326218118559,0.9378314330411417,3.7455030691431745,2.782992598002627,1.7886108645820105,0.7214806256346287,1.0399480045632976,0.8376241621766998,1.7616802424787068,1.6693966123160873,2.498051244166735,0.5031234469816435,14.701573105423229,0.9070717077775965,1.8493754604185284,2.5084176223233667,1.9544563784122995,1.7960785817864489,3.355747834512332,0.6342048321671494,14.052288818712569,3.7942106243390015,0.865210563456001,4.898443360207156,3.023572359258655,1.6137793746628526,1.5591780292005086,1.3533171393825523,0.59303901546036,2.1836022946060423,12.110721393237258,0.7516697794959433,0.31058773506238097,3.57342375349938,0.9282233817675969,1.606988202460752,2.2933833431473696,1.0843384568876162,1.5059348038883758,1.2636590699516748,2.266362227400057,1.4185483541548183,0.6762357996099275,0.6533094550471736,0.42557068046541074,0.7719359440375192])                                                       |3          |\n",
      "|(100,[0,1,2,3,4,5,6,7,8,9,10,11,12,13,14,15,16,17,18,19,20,21,22,23,24,25,26,27,28,29,30,31,32,33,34,35,36,37,38,39,40,41,42,43,44,45,46,47,48,49,50,51,52,53,54,55,56,57,58,59,60,61,62,63,64,65,66,67,68,69,70,71,72,73,74,75,76,77,78,79,80,81,82,84,85,86,87,88,89,90,91,92,93,95,96,97,98,99],[1.0876163390148692,1.7922244521330961,1.2999381066999314,2.7410740496139523,1.1461098252704682,1.5014405826684856,2.3165595399491425,1.5776675015023767,1.4340476459912825,0.7203803322903526,1.4609190553925302,1.9745496606925956,1.279280544867473,1.1602975102874755,1.667135422361891,1.4485842760264074,1.192346449681475,0.9203641563757795,2.3344469317011627,1.981763612129944,2.2492754572705485,2.180591302320173,2.834058085649152,1.924915940387076,2.463896716619444,1.3817586267657314,1.0935902446083745,4.493183904231666,2.2790931089007542,1.404063640253832,1.2164608822270544,4.564404911135795,4.5243115323563,7.811018939503039,2.67831367076792,1.5260881004370301,1.6565390774807285,2.080628617121735,1.8471593585540513,1.4561843971171777,7.85087881173073,2.866511798229496,2.6053033551285143,0.6847490383685796,1.2423509402495239,2.3960822696738586,36.221937528768336,2.5781132820829855,2.5369943476428114,0.2582619160606413,1.6512688462464866,1.4067471495617125,1.4045636509286905,1.739370373751642,0.8943054322910052,1.4429612512692573,0.3466493348544325,3.071288594647899,0.5872267474929023,1.3355172898528698,4.57976061430568,1.5093703409449304,29.403146210846458,3.9306440670362512,1.5411462170154402,1.4333814984704953,2.7920805405889992,1.026330618163685,4.474330446016443,1.9026144965014482,5.018674578111631,0.5420300891912859,1.4420176057600018,2.449221680103578,1.4884216511323656,1.814143415555193,1.0758529164419017,1.1693835219003814,1.894643995135573,0.29651950773018,0.7278674315353475,36.69986684080213,46.71278251677228,1.2423509402495239,1.9491402291814799,2.165854557457726,0.803494101230376,0.5733458357868424,0.7975608941956838,1.4457846091834883,0.9035608823330255,1.2636590699516748,2.266362227400057,1.0639112656161136,1.690589499024819,1.633273637617934,2.9789947632578753,1.5438718880750384])|4          |\n",
      "+---------------------------------------------------------------------------------------------------------------------------------------------------------------------------------------------------------------------------------------------------------------------------------------------------------------------------------------------------------------------------------------------------------------------------------------------------------------------------------------------------------------------------------------------------------------------------------------------------------------------------------------------------------------------------------------------------------------------------------------------------------------------------------------------------------------------------------------------------------------------------------------------------------------------------------------------------------------------------------------------------------------------------------------------------------------------------------------------------------------------------------------------------------------------------------------------------------------------------------------------------------------------------------------------------------------------------------------------------------------------------------------------------------------------------------------------------------------------------------------------------------------------------------------------------------------------------------------------------------------------------------------------------------------------------------------------------------------------------------------------------------------------------------------------------------------------------------------------------------------------------------------------------------------------------------------------------------------------------------------------------------------------------------------------------------------------------------------------------------------------------------------------------------------------------------------------------+-----------+\n",
      "only showing top 2 rows\n",
      "\n"
     ]
    }
   ],
   "source": [
    "dataset.select('features', 'avg(stars)1').show(2, False)"
   ]
  },
  {
   "cell_type": "code",
   "execution_count": 82,
   "metadata": {},
   "outputs": [
    {
     "data": {
      "text/plain": [
       "['business_id',\n",
       " 'collect_list(text_con)',\n",
       " 'avg(stars)',\n",
       " 'subcat',\n",
       " 'label',\n",
       " 'avg(stars)1',\n",
       " 'features']"
      ]
     },
     "execution_count": 82,
     "metadata": {},
     "output_type": "execute_result"
    }
   ],
   "source": [
    "dataset.columns"
   ]
  },
  {
   "cell_type": "code",
   "execution_count": 83,
   "metadata": {},
   "outputs": [
    {
     "name": "stdout",
     "output_type": "stream",
     "text": [
      "+-----------+------------------+------------------+----------------+\n",
      "|avg(stars)1|   avg(avg(stars))|        avg(label)|avg(avg(stars)1)|\n",
      "+-----------+------------------+------------------+----------------+\n",
      "|          1|1.2482634830650676|               1.0|             1.0|\n",
      "|          3| 3.069558679959741|1.2922535211267605|             3.0|\n",
      "|          5| 4.676653182465721|1.2015503875968991|             5.0|\n",
      "|          4|3.9113541054188086|1.4875115633672527|             4.0|\n",
      "|          2| 2.146400493794498| 1.279475982532751|             2.0|\n",
      "+-----------+------------------+------------------+----------------+\n",
      "\n"
     ]
    }
   ],
   "source": [
    "dataset.groupby('avg(stars)1').mean().show()"
   ]
  },
  {
   "cell_type": "code",
   "execution_count": 84,
   "metadata": {},
   "outputs": [
    {
     "data": {
      "text/plain": [
       "DataFrame[summary: string, business_id: string, avg(stars): string, subcat: string, label: string, avg(stars)1: string]"
      ]
     },
     "execution_count": 84,
     "metadata": {},
     "output_type": "execute_result"
    }
   ],
   "source": [
    "dataset.describe()"
   ]
  },
  {
   "cell_type": "code",
   "execution_count": 87,
   "metadata": {},
   "outputs": [
    {
     "data": {
      "text/plain": [
       "StructType(List(StructField(business_id,StringType,true),StructField(collect_list(text_con),ArrayType(StringType,true),true),StructField(avg(stars),DoubleType,true),StructField(subcat,StringType,true),StructField(label,IntegerType,true),StructField(avg(stars)1,IntegerType,true),StructField(features,VectorUDT,true)))"
      ]
     },
     "execution_count": 87,
     "metadata": {},
     "output_type": "execute_result"
    }
   ],
   "source": [
    "schema1 = dataset.schema\n",
    "schema1\n"
   ]
  },
  {
   "cell_type": "code",
   "execution_count": 9,
   "metadata": {},
   "outputs": [],
   "source": [
    "s_path = YELP_DIR + 'yelp_business_text/' + 'dataset1'"
   ]
  },
  {
   "cell_type": "code",
   "execution_count": 10,
   "metadata": {
    "collapsed": true
   },
   "outputs": [
    {
     "ename": "NameError",
     "evalue": "name 'dataset' is not defined",
     "output_type": "error",
     "traceback": [
      "\u001b[1;31m---------------------------------------------------------------------------\u001b[0m",
      "\u001b[1;31mNameError\u001b[0m                                 Traceback (most recent call last)",
      "\u001b[1;32m<ipython-input-10-7297cf3ad8ac>\u001b[0m in \u001b[0;36m<module>\u001b[1;34m()\u001b[0m\n\u001b[1;32m----> 1\u001b[1;33m \u001b[0mdataset\u001b[0m\u001b[1;33m.\u001b[0m\u001b[0mrdd\u001b[0m\u001b[1;33m.\u001b[0m\u001b[0msaveAsTextFile\u001b[0m\u001b[1;33m(\u001b[0m\u001b[0ms_path\u001b[0m\u001b[1;33m)\u001b[0m\u001b[1;33m\u001b[0m\u001b[0m\n\u001b[0m",
      "\u001b[1;31mNameError\u001b[0m: name 'dataset' is not defined"
     ]
    }
   ],
   "source": [
    "dataset.rdd.saveAsTextFile(s_path)"
   ]
  },
  {
   "cell_type": "markdown",
   "metadata": {},
   "source": [
    "Read back in."
   ]
  },
  {
   "cell_type": "code",
   "execution_count": 32,
   "metadata": {},
   "outputs": [
    {
     "data": {
      "text/plain": [
       "[u'Row(business_id=u\\'--I7YYLada0tSLkORTHb5Q\\', collect_list(text_con)=[u\\'We were a group of 4 had dinner last night 3 had burgers 1 had the rib special,chicken nachos for an app.\\\\nService was very good,all agreed food was also very good much better than our first experience here a year ago\\', u\"My husband and I ate here yesterday and both were told how wonderful the fish sandwich was. So we ordered it. First the fries that came along with sandwich were limp and greasy. It is pretty hard to mess up fries but they did. The fish was a glorified frozen fish stick with breading looks like a very large chicken McNugget. It was served on what looked like a yummy French baguette. It wasn\\'t. It was bland, tasteless and rubbery. We asked for the Catawba sauce (mayo and siracha) which turned out to be the only good tasting thing we ordered. Don\\'t order the fish sandwich no matter what anyone says, unless you like fish McNugget sandwiches.  $42.00 for two fish sandwiches and fries that we did not finish or take home, 1 beer that my husband didn\\'t finish drinking, water for me, fried pickles (tasted good not didn\\'t like the breading).  Overall not good food and not worth the price.  Save your money and go somewhere else.\", u\"Today was my first time at Happy Moose. Upon entering I was greeted with a friendly smile and then choose to sit at the bar. The bar is very spacious, made of granite, with plenty of seating. There are a lot of big screen monitors every where. So, getting a good view is no issue. The beer prices were good and even better once the baseball game started. This time I choose an appetizer, buffalo chicken dip with tortilla chips, that was so addictive I can\\'t wait for more. I enjoyed my first experience and will be going back very soon\", u\\'Arrived to be seated my a friendly hostess. But seconds after being seated noticed 2 dead bugs on our table.  Waitress laughed and made a joke of it.  Not amused.  \\\\n\\\\nFood was good.  Not fantastic but not bad either.   Was slow to come out and with a few errors but they did correct them.  \\\\n\\\\nI Would return for the sliders.\\', u\\'Loved the beer.\\\\nLoved the TV screens\\\\nThe waitress was lovely and walked miles (what was her number?)\\\\nFood good!\\\\nGreat place for a Brit to chill!\\', u\\'So, after hearing what others had to say about Happy Moose, I held some high expectations on the place.  I must say, they were greatly misplaced.  It\\\\\\'s a general, run of the mill gastropub.  Nothing more.  Nothing less.  \\\\n\\\\nWhen you first walk in, there are NO signs that say if you have to wait to be seated or if it was seat yourself.  After waiting for 5-6 minutes, hubby and I decided to seat ourselves, when someone miraculously appeared to seat us.  The place was NOT busy, so I really don\\\\\\'t understand what took so long.\\\\n\\\\nWe were seated at a tall table with chairs and our waitress promptly came by and took our drink orders.  After a few more minutes, she returned with our drinks and took our orders.  I must say, the promptness of the food would have given them 5 stars.  Within 5 minutes, we had our orders.  Hot and yummy.  I ordered the Irish Nachos because I was told that they were \"to die for.\"  I tasted them and was like, \"Meh.  I\\\\\\'ve had better.\"  It wasn\\\\\\'t bad, but it wasn\\\\\\'t \"to die for\" either.  I really have had better.  I was offered a refill on my ice tea just after the check came, so points lost of that.  While the service overall was friendly, it was not always prompt.  The place looked clean overall, but I didn\\\\\\'t get a chance to visit the restrooms.  While there are TV\\\\\\'s everywhere, the rest of the decor was sparse.   The big windows bring lots of light to a very dark place, so I\\\\\\'d hate to see how dark it really is in the evening.\\\\n\\\\nWhile I won\\\\\\'t write them off, I certainly won\\\\\\'t promote them either.   Are they kid friendly.  I would not bring my kids here in the evening.  Yes, for lunch in the middle of the day, but definitely NOT in the evening or dinner.  Yeah.... You won\\\\\\'t catch me being a regular here.\\', u\\'Terrific food, craft beer and service. Came on a Tuesday night on a business trip and there were a ton TVs playing the Indians game. It was 59 cent wing night and the wings were a great quality. They came out hot and fresh with many different flavors. I had a nice Lake Erie Monster Imperial IPA to go along with it. Great well run restaurant.\\', u\\'There was 6 of us for dinner. Food was very good. 3 burgers, 1 fish sandwich, wings and a salad. All of us were pleased. The only reason it did not get a 5 was the service. The place was not very busy but our server made us feel very rushed. The place was not even half full. Will be back but will order takeout\\', u\\'Used to come here quite often and really enjoyed it but the last few times it has not been good. The quality of food is not good, the zucchini planks were so greasy and the fries used to be really plentiful but instead there were hardly any fries at all. I ordered a side of Cole slaw and paid $1.99 for two spoonfuls. There were bugs on the walls and the temperature was not controlled very well. Very disappointing!\\', u\\'we have gone to this restaurant several times and always enjoyed it. however, we called a hamburger order in-picked it up. four days later we receive an alert from our credit card company questioning us of a large tip applied to the amount. NOPE we didn\\\\\\'t leave a tip cause it was a pickup. we looked over our receipt. after 2 phone calls we were told this sometimes happens and we needed to give them our credit card info so they can refund us the amount. i\\\\\\'m sorry but the tip was more than the hamburger and all I get is oh sometimes this happens! well they have now lost us as customers and our family of 6 that we would take there. \"SOMETIMES THIS HAPPENS!\"??????????? what is up with that? Beware it could happen to you!\\', u\\'Second time around i have to say the burger was pretty good. Definatly above standards. The wings are also very good. Will deffinatly go back. They only reason i didnt give 5 stars was the service was slow today. Otherwise happy Moose was impressive today. Kudos to the owner and his cooks!\\', u\"I got the black & blue burger & my girl got the pulled pork sandwich, both were very good & I would get either one again.\\\\nNow the wings are a different story. Wouldn\\'t get the again. They were to chewy for me. Plus I got they\\'re equivalent to a sweet heat sauce that was bland. No sweet or heat. Potatoe skins were ave.\", u\\'Best veggie burgers w\\\\\\\\/ pepper jack cheese! \\\\n\\\\nBecky is absolutely the best server!\\\\n\\\\nHighly recommended!\\', u\"Stopped here after the Spartan Pittsburg. Service was prompt and friendly. Food was good not great. Had the wings with the smoke rub and the irish nachos. My son had the texas boy. All were neither a hit or miss. Next time I\\'m in town I will be back to try some different wings.\", u\"$32 for 12 wings and two beers. \\\\nFood was ok. Beer was ok \\\\nService very marginal. \\\\nTwo bartenders and only 10 of us at the bar but had to repeatedly wait for service. \\\\nThey both did find time to spend quality time with a couple of regulars. \\\\n\\\\nI got the dry wings and they were pretty much fried and rolled in a salt\\\\\\\\/spice mixture. \\\\n\\\\nThe place was pretty empty and I see why. Won\\'t be back.\", u\\'Very good bar food! Good beer selection and service has always been friendly and quick! Nice place to catch a game! Will be back\\', u\"This place is a sports bar atmosphere with some pretty good bar food!  The portions are always HUGE! \\\\nSome of my favorites to order here are:\\\\n\\\\nSmoked Wings- The dry rub is AMAZING! Salty and crunchy and so darn good!\\\\nAny Salad - The salads are so big and come with so many toppings! I always have leftovers!\\\\nAny Burger - The burgers have some really good toppings and are always good.  They come with fries (or you can substitute any side). The fries are soft and delicious perfect with vinegar!\\\\n\\\\nNot the most specific, but really every meal I\\'ve had here has been good! I don\\'t think you can really go wrong!\", u\\'One of the best sports bars around!!! Great food, good beer selection, and reasonable prices. On top of that the servers are super friendly and are exceptional at their jobs!!! Highly recommend!!! (And the fried pickles\\\\\\\\/dip are the bomb!!!)\\', u\"I would give this place 3.5 stars. Not quite a 4, but not a 3 in my book (obviously since I wish I could give it a 3.5 on the scoring. It has bands from time to time, which is what makes it a 4. Not many places have an area that converts from a stage at night to tables during the day. I would give it a 3 for food. It\\'s just your typical, everyday bar food. Nothing to write home about, but it\\'s not necessarily bad. Just average. I\\'ve been here a couple of times, and I have always enjoyed myself. The service is also fantastic, which also helps its rating. I would recommend you stop at least once to try it out, especially if there is a band.\", u\"Comfortable atmosphere, good service, good food. Amanda was our server and she was just wonderful! I had the buffalo chicken dip appetizer and the jumbo pretzel sticks appetizer; both were delicious. They serve Pepsi products (I prefer Coke) but that wasn\\'t enough to dampen my spirits. I\\'d definitely come back.\", u\\'Decent atmosphere and beer selection but for 59cents per boneless wings it could be of decent size.  I got some chicken nuggets size and it was really small.   Maybe not pick the special next time.\\', u\\'I am a truck driver have to sit a day  Great place ... Great wings ... Great waitress... But get a Sunday liquor license please my company comes here a lot\\', u\\'Always intrigued by this place.   We went on a Sunday and was not too busy.  First sign that it was not gonna be good was the locking mechanism attached to front door.  The kind that one puts a key in for someone stopping by later.  R they selling?  \\\\n\\\\nHost and server were fine but the food is why you go.  \\\\n\\\\nGot 12 boneless BBQ wings.  I have never had trouble cutting a boneless wing in half with a fork until this place.  They were like rocks.  BBQ sauce was good wings were not.  \\\\n\\\\nPartner got Bigfoot burger. His plan was he liked everything on it so it would be good.  It is a burger on French toast with egg bacon and peanut butter.    Did not like at all.  Burger meat itself was terrible no flavor. \\\\n\\\\nI got a Texas BBQ burger  BBQ sauce onions on a big burger   Burger was blah he much better.  \\\\n\\\\nBoth came with fries that were also tasteless and hard.  \\\\n\\\\nEven h2o tasted blah.  \\\\n\\\\nAtmosphere smells like what it was a bar.  Spilled beers and urine.  \\\\n\\\\nAvoid unless ur drinking\\', u\"The French dip sandwich was really good and well cooked. The wings were mediocre. The service at the bar was fairly poor and slow. It wasn\\'t really busy on a mid week evening and the 2 bartenders didn\\'t really seem to have much of a clue. She was only friendly when she handed me the bill. I wouldn\\'t go back.\", u\"My husband and I stopped here at random, and I must say the food, drinks, and wait staff were pretty awesome! I had the angus beef sliders with fries, and my husband had the six pepper dry rub wings which were ridiculously good! Also try their Apple CinniMule - surprisingly pretty darn good! Overall, great place to stop by if you\\'re looking for a well seasoned meal, good drinks and pleasant staff. Should we ever find ourselves in this area again, we\\'ll definitely come back!\", u\"It\\'s good to see a family owned restaurant in the fast food capital of Streetsboro Ohio.  I\\'ve been traveling here for many years and have long since given up on finding any remarkable food.  This restaurant is no exception. Food was okay at best. I had chicken wings that were a bit under cooked. They came drenched in sauce. It was literally floating in it.  Salad was decent. \\\\n\\\\nBeers were good. Service was fast but without personality.  If you put this place in any other place I would pass.  In Streetsboro however it offers at least a choice.\", u\"Gotta say this place is disappointing. Such a great name, it has to be a fun late night place, right? Nope!!!  They have a good beer selection, but no one who knows anything about beer.  The food is OK, but the atmosphere is just sad. They really want to close by 10:00, so don\\'t plan on sticking around.\", u\"Food was ok but nothing to write home about. Be careful with the add-ons and up-sells. Everything is extra, and it adds up. A side of sweet potato fries was over $7. Celery for the wings is extra. If you need extra chips for your spinach dip, they\\'re extra. Our bill ended up being nearly $60 for two people. We could have gone out to a nice steak house for that much.\", u\"Very good! Both the service and the food were  exceptionally good. I got a Chicken Philly and it was cooked perfect. No problems what so ever. The prices also didn\\'t break the bank.\", u\"Been coming here weekly ONLY because the Boro has limited choices. Wine is $6.25 a glass, service at the bar is really good. Food is pricey but most often good. Can\\'t get out of there less than $30 plus tip. The bartenders are very attentive so that is why we return.\", u\"Nice clean restaurant. Typical sports bar type fare with a few twists. I had a meatball sandwich, which featured their homemade meatballs. The meatballs weren\\'t very good. The sandwich was clumsy and a but undercooked as there was a cold spot as I ate it. The hand cut fries were disappointing as they had no salt on them. It was okay, but nothing I would crave or want to return for.\", u\"I was pleasantly surprised to find that they had high chairs as it looked very bar-y when we walked in.  We ordered the fried pickles, which were pretty good.  The wings were just ok and the bill was huge for what we had.  It just felt very overpriced for very average food.  We didn\\'t even finish our wings, and that\\'s saying something.  Our service was mostly attentive, however.  This would probably be a good place to drink and watch a game.\", u\"I\\'m generally not a harsh critic for many things, if there is effort involved I wouldn\\'t be quick to judge on a first visit basis, but waiting almost 45 minutes just to be approached and then asked what we would like to drink is lousy. That\\'s almost saying that you straight up, don\\'t care. How on earth there was a mix up, is beyond me. Even on a Friday\\\\\\\\/Saturday night with the place packed that wouldn\\'t be okay. Me and my girlfriend got our drinks after 45 minutes and ordered our food. We got boneless wings\\\\\\\\/fritters and they tasted like dirty fryer oil, as did the breaded chicken sandwiches. The Hummus was really good though. It honestly deserves 1 star, but the fact that we had a lot of that taken off our bill was nice at least.\", u\"Went on a Tuesday. Wings were only 59 cents and the beers were under $3. My favorite of the top three spicy flavors was the Mango Habenero. Fresh cut fries were pretty good too and we really enjoyed the atmosphere. Lots of TVs and the bartender Crystal was very friendly and informative. Happy Hour is 12-7pm Monday thru Friday - just wish we had one of these in Wadsworth. There\\'s really no good wing places like this nearby.\", u\"This place is a must stop destination if traveling to or through Streetsboro.  Great ribs and the best wings I\\'ve had.  So much better that the chains.  It\\'s a family owned sports bar and the pride in ownership shows.   If you decide to drop in and she\\'s on duty ask to be seated in Sam\\'s area.  Sam is knowledgeable regarding the menu and beverage choices and will see to it that you have a great experience.  You can\\'t go wrong here\", u\"I don\\'t see what people complain about here. If i wanted bistro style, high quality expensive food I would go to Rosewood. \\\\n\\\\nI go to the happy moose because the prices are good, the servers are pleasant and the alcohol is great. My only issue would be to tell management to hurry up on that Sunday liquor license. I wanted to go cocktail crazy but had to stick with beer!\", u\"Best Cuban I\\'ve ever had. Great friendly service. Plenty of tvs for sports. The music was just a bit loud for my old ears.\", u\\'Typical sports bar and Grill type of place with some hits and some misses. You could do worse in Streetsboro. \\\\n\\\\nDecor: a little odd. Has a sports bar feel but a lot of big Windows letting in light confuses the concept. Central bar with tvs everywhere. \\\\n\\\\nMenu: Easy enough to understand. Think BW3...wings, wraps,  burgers,  salads, sandwiches, and maybe a few entrees. Very large wine and beer list. Beer list also explains the flavor profile for the various beers...love this! \\\\n\\\\nStaff: Service was fast and attentive, but our waiter was weird! He did help me rearrange my order into a combo to save money,  which was great. Was not a fan of him telling us to take our time looking at the menu because he \"really had to pee!\"  TMI buddy. \\\\n\\\\nFood: Huge portions. Fries and chips are made in house.  Fries are the skin on boardwalk style and chops were large cut kettle style. I got boneless wings with loaded chips. Wings were good and chips were very crunchy with good stuff on top! Others got chicken tenders, pulled pork sandwiches and burgers. All were above average quality and a great deal for the portion. \\\\n\\\\nWe brought kids during the day and felt it was kid friendly. Have not been here for dinner. \\\\n\\\\nGood food, good portions and pretty good deal. Not and blowing experience, but a great stop for something a bit different on a budget in Streetsboro. Will go again!\\', u\\'Not really sure what happened since my last visit,  but wow was it great! \\\\n\\\\nThe food was cooked perfectly and all of us left full.  The green chili was so great I sat there looking up recipes for when I get home to make it!\\\\n\\\\nPhenomenal fresh salsa... Perfectly cooked pulled pork,  and the mooseadilla was awesome as well! \\\\n\\\\nWait staff was great and right on with service,  drink  refills,  etc. \\\\n\\\\nWe will definitely be back again and that is a promise!\\', u\"We were very happy while eating at the Happy Moose! We went on Saturday around 5 and were seated promptly. They weren\\'t very busy which was great. Our waitress was super friendly and was very attentive. She even offered suggestions and boy were they good! I had the wing and pretzel combo and it was perfect! Although too much food for me they were sure tasty. The buffalo ranch sauce was perfect! My husband had the ribs and wing combo and he said they were fall off the bone and very tasty. I\\'m glad we tried them out and we will be back for sure!\", u\\'Went on the Sunday before Memorial Day, the only race in NASCAR was on at about 8:15. Had 2 beers. Asked for a food menu and we were told the kitchen was closed at 9:00. I could understand that on a regular Sunday but before a holiday was disappointing especially since the burger that the girl received looked delicious.\\', u\"I\\'m giving 3 stars for the food. But overall this is a nice place to drink a beer and watch the game.\", u\\'Some of the members of our Motorcycle Ministry and I went last night, and it was great. The food was amazing. The atmosphere was amazing. The service was amazing...Definitely will be back!\\', u\"I ate here a couple of times before my diet was restricted for medical reasons, and I thought the food and service both were exceptional. I\\'m looking forward to having the doctors let me go back in a month or so. In the meantime my son knows their Mentor location well. John A. thought the windows were a bit odd for this kind of place, but it used to be an Eat \\'N\\' Park. Changing the windows would have been a major remodeling expense. The place seemed very kid friendly when I was there both noon and evening.\", u\"This place is great Will definitely come back wings, chicken and beef sliders!!!! My son said the Buffalo chicken sliders wasn\\'t that good!!!!!!! Buffalo chicken wrap was good !!!!!!!!\", u\\'If you like cold over cooked food this is your place. The service is also EXTREMELY slow!\\', u\"Don\\'t drive by this local joint!  Visited for lunch from out of town and had the bacon and blue burger with onion rings. BEST rings I have ever had in my life and that burger....omg that burger. Highly recommend.\", u\"Had to get my wing fix, I like dry rubs on wings they had 3 different types couldn\\'t choose between 6 pepper, smoked and cajun style so I just got all three. \\\\nAll were great but if I needed to choose I would go with the 6 pepper, along with incredible craft beer offered makes this place a great stopping place while passing threw !\", u\\'Really cool place! The salads are fantastic! \\\\nAlways have good new beers to try. Bartenders are very friendly. Servers are very nice too! Will be back!\\', u\\'Really liked this place, even tho it got super busy. Good food, good beer selection, really nice atmosphere. Price was on par for quality. Wait staff and bartenders were very friendly and attentive. Will be back if I am ever this way again!\\', u\"We got to your establishment at 6:30pm 11\\\\\\\\/18\\\\\\\\/15. The waitress we had really didn\\'t wait us. Never asked how we were doing. Never asked if we needed anything. Someone else brought out our food. I had gotten the chicken parm sliders. There was like no sauce on it. The chicken was dry. Both plates were hot but food was cold. My bf asked for no tomato. You could tell that someone had put it on and took it off because the juices and seeds was on his burger. Couldn\\'t asked for sauce she didn\\'t come back except when she gave us our bill. She was way friendlier to the other tables around us but not to us. Idk. Couldn\\'t tell you her name. She didn\\'t say. We basically sat in the back corner at a round table. I was there bout a month ago and had great food and service thought I would come back because I wanted my bf to experience it but it sucked. What sucked even more he drives an hr to see and then I actually live an hr away from your restaurant. So waste of my money, time, and gas.\", u\\'The place looked VERY busy, but there was no waiting for a table. It\\\\\\'s one of those sports bar\\\\\\\\/restaurant places with \"industrial\" ceilings that make it super loud to begin with. But add a packed house, several televisions and loud music and you can\\\\\\'t hear yourself think, let alone talk to your table mates. I expected this and it didn\\\\\\'t bother me at first but my 22 year old son (who frequents BW3\\\\\\'s which is also loud) said he wouldn\\\\\\'t go back because of it. \\\\n\\\\nWe ordered the spinach dip to start. Unfortunately--perhaps because it was so loud--the waitress heard chicken tenders. A man came over with the chicken later and we had to send him away TWICE after we informed him we ordered the spinach dip. The waitress came back and asked if we wanted the chicken and we told her--again--we ordered the spinach dip. She said would fix it and she did. The dip came fairly quick after that. But, we barely took one bite before our entrees descended on us. This annoys me because an appetizer is not supposed to be served with the entree and there was no room for 5 large plates and 4 small ones on the pub-style table. However, the dip was quite good. We all agreed.\\\\n\\\\nMy son ordered a chicken sandwich with fries. I could see immediately that the chicken was, albeit large, very saturated with oil. He ate it and said it was ok, but refused to eat the fries for the same reason. He tried doctoring them up and still couldn\\\\\\'t eat them. They were oily and limp. \\\\n\\\\nHis friend had the rack of ribs. It was $17-ish, I think he said, and not worth it at all. According to him, it was about 20% fat and not tasty. However, this boy eats about 4 things total and is very picky so I\\\\\\'m not sure how accurate that assessment is. He also agreed his fries were very oily but those are one of his staple foods and he ate them.\\\\n\\\\nMy son\\\\\\'s other friend had a sandwich of some kind, which he devoured. He also said the fries were super greasy, but his mother doesn\\\\\\'t let him eat a lot of greasy foods so he thought it was great. LOL. \\\\n\\\\nI ordered a Cuban sandwich and I really liked it. However, half way through eating my (oily) fries...I realized I had ordered the Kettle chips. So, our order was wrong again. I figured I already ate half of them so I didn\\\\\\'t complain.\\\\n\\\\nGetting out of there was fairly speedy. We all considered not tipping (or not tipping much) but I personally having worked for tips in the past couldn\\\\\\'t bring myself to punish the waitress for the crappy work of the cooks or the fact that she couldn\\\\\\'t hear a damn thing in there. She should have accounted for this and refused to serve bad food or double checked what we wanted, though.\\\\n\\\\nI guess I would give the place another try if someone wanted to, but wouldn\\\\\\'t suggest it.\\', u\\'Great food. I have never had a better pulled pork sandwich ever. It was fantastic. The only downside was the noise level due to the industrial decor\\', u\"This is a good 3 - 3.5 star.  We really like this place, but I am not going to say I am a \\'fan\\' just yet.  \\\\n\\\\nThere food is pretty good but a little on the pricey side.  You do get a decent portion but you may struggle a little when the bill shows up.  The service has always been really good.  \\\\n\\\\nThey are focused on being a sports bar though and at that, they are pretty good at.\\\\n\\\\nInside is a little industrial, so if Moose makes you think it is going to have a warm woodlands feel, don\\'t.  But that being said, it very comfortable and open.\", u\\'My husband proclaimed, \"I want to get you liquored up tonight!\"...so off we went to Happy Moose. The parking lot was packed but we were able to get a couple seats at the bar. A number of drinks containing 3 Olives cherry and some apple pie moonshine shots and I was toast. The fried pickles were delicious and that\\\\\\'s not the booze talking. We had pretty good service too! Of course we will be returning!\\', u\"Great wings, great sandwiches & wraps, and even my salad was awesome (I don\\'t expect much out of a sports bar salad, but it surprised me!). I\\'ve had friendly and attentive service both times I stopped in. The bathrooms smell terrible-- I think they have plumbing issues, but if you can get past that then it\\'s definitely a place Streetsboro was in need of (sorry Chuggers!)\", u\\'One of the best sports bars around. The food is always good and the servers are always nice! \\\\nWe usually get burgers or ribs, both are great choices.\\', u\"My wife and I went for lunch while we were way out east. We ordered a Cuban and a chicken parm sandwich.  They were above average for pub fair and I would definitely return next time I\\'m in the area.\", u\\'Nice atmosphere. Kid friendly. Love the rib nights. Reasonable prices.\\', u\"Found this unique place on a recommendation from a friend.... And although we didn\\'t have dinner,, we had drinks..... Staff could not have been nicer... Even recommended a few Italian restaurants in area.... Hats off to this place....\", u\"This place is centrally located which is good and the food is pretty decent. Two things that are not ok is the service and the cleanliness. The waitress was ok but didn\\'t clear the dishes or refill drinks without being asked. As for the cleanliness, the place was a mess. There was a huge mess on the floor below our table where a family of 8 had all of their kids before us and no one thought to sweep under the table or wipe the chairs before sitting a new group. The rest of the restaurant was no better, including the bathrooms. Blah! If that is what we could see, imagine what we couldn\\'t see in the kitchen!\", u\"Great food and service! My companions had beer. I was undecided between the Pinot Grigio and the Chardonnay. I asked the waitress if I could have a taste of each to determine which one I preferred. (A common practice in AZ). She stated that they don\\'t do tastings and the alcohol was weighed so they couldn\\'t just give me a little. We asked for the manager who promptly came to our table. She said the same thing but said she, too, would have to get permission from someone else. As it turned out, they did bring me a sample of each and I chose the Pinot Grigio. They were very accommodating although I suspect if we hadn\\'t pushed it they would have just left it at no. Everyone in our party was very pleased with their food selection. Ambiance was nice and they weren\\'t too busy. We definitely would go back.\", u\\'As a note, I give stars based on how well the establishment accomplishes what it has set out to do. Happy Moose is a bar and grill. As such, it succeeds masterfully. \\\\n\\\\nThe environment is really cool - renovated from an old EatNPark. The room is filled with local memorabilia and is very spacious. \\\\n\\\\nAll of the food has been great. The French dip, custom burgers, and appetizers are all exceptional. The menu is vast, yet the kitchen seems to be able to pull it all off very well. Surprisingly a lot of the spreads, dips, and sauces are made in house. \\\\n\\\\nThey have a great beer list comprised of about 10 craft draft beers and seasonal bottles. I love the fact that the menu gives you a price for all the alcohol...sooo nice! \\\\n\\\\nPrices are all very reasonable and the service that I have experienced has been great. The perfect neighborhood bar and grill.\\', u\\'Kind of an odd duck. More of a resteraunt type feeling but with a very expensive menu. Service was good. Apple pie shot was amazing. Very loud for not having that bar\\\\\\\\/club type of atmosphere.  So ...id say was just ok.\\', u\\'2nd time here.  Certainly not healthy eating but OH SO GOOD.  Had the Italian steak sandwich which was awesome.  Bread to guts was perfect ratio.  Side salad was a good size dinner salad.  Service by Brittany was top notch.\\', u\\'Yesterday stopped on the way back from going to the casino at 10:30pm. They were closing and denied us service. It was a Saturday night at 10:30...? There is no way this place is going to stay in business long if they are not open on weekends past 11pm. Be warned , do not plan on going here late at night. All of there customers must be old people that go to bed before 8.\\', u\\'Came here to spend time with family and watch game  started of with appetizer platter for $12.99 we had tasty ribs that fell off bones and mozzarella wedges and chicken tenders. We were able to choose the sauce we wanted. Also had potato skins but they were on greasy side.  At half time we ordered food   chicken quesedia and pulled pork sliders and Asian chicken salad.   Food good and service was attentive.  The game outcome on the other hand. ..\\', u\\'Fantastic venue, great food and location. Service was amazing for how busy it was on game night and we will absolutely return for another visit.\\', u\"Alright food bad service. Waited 40 minutes for my waitress to come around so I could get my bill. I could see her. She was busy vaping behind a wall by the kitchen entrance. I finally flagged down a different waitress and got my bill. The whole time my waitress\\\\\\\\/ bartender was busy huffing flavored water vapor. No one ever checked on me the whole time. I won\\'t be back. I hope you won\\'t go there either. Next time I\\'ll listen to my coworkers and go to Rocknes.\", u\"We were so excited when this place opened. We were disappointed the first time we went. Hubby said the bar stools were too low for him to be comfortable and I found myself sliding around on one all over the floor.  But, since then, we\\'ve made a few trips back. We sit at a table now since he is in a wheelchair. The staff and patrons always hold doors for us, when we come in and when we leave. The server doesn\\'t even hesitate to move a chair out of the way so I can get the wheelchair under the table..  Drink service is fast.  When I asked what beer the server would recommend, she chose one for me that was perfect and I will order from now on. The dining room is bright and welcoming and the huge televisions on the wall are easy to see. We are becoming Sunday regulars there.\", u\\'I got the smoked wings and requested drums only (no up-charge). Most restaurants usually add a few bucks, this was a welcome surprise. They tasted fine and came with a side of horseradish for dipping. The onion rings were a huge disappointment. The rings were touted as a house special, but tasted like school cafeteria mush. \\\\n\\\\nThe beer selection is decent, but by no means enough craft options for my liking.\\', u\\'Have yet to have a bad meal. This has turned into our weekly go to place. Noticed some turnover in the wait staff but food, service, and cleanliness has stayed consistent. Wish they had a patio and a larger parking lot. Would really be nice if their website provided current info regarding performing bands each weekend. Great place for family dining or a night out without the kiddies.\\'], avg(stars)=3.486111111111111, subcat=u\\'American\\', label=0, avg(stars)1=3, features=SparseVector(100, {0: 1.2768, 1: 2.5603, 2: 1.9066, 3: 2.9829, 4: 1.2225, 5: 3.4721, 6: 1.2474, 7: 1.8735, 8: 1.7413, 9: 2.5728, 10: 1.9827, 11: 3.9491, 12: 1.462, 13: 2.3206, 14: 1.9703, 15: 1.4486, 16: 1.1923, 17: 5.2921, 18: 4.6689, 19: 3.2429, 20: 2.0886, 21: 1.6354, 22: 11.3362, 23: 1.2249, 24: 1.5162, 25: 1.1054, 26: 1.0936, 27: 1.1233, 28: 3.292, 29: 1.9306, 30: 2.737, 31: 2.6971, 32: 0.7984, 33: 0.4111, 34: 2.4105, 35: 3.5609, 36: 2.1298, 37: 2.0806, 38: 3.6943, 39: 1.9416, 40: 15.7018, 41: 0.7644, 42: 4.7764, 43: 2.0542, 44: 0.9318, 45: 3.1333, 47: 4.0513, 48: 1.8451, 49: 1.5496, 50: 3.0273, 51: 0.9378, 52: 3.7455, 53: 2.783, 54: 1.7886, 55: 0.7215, 56: 1.0399, 57: 0.8376, 58: 1.7617, 59: 1.6694, 60: 2.4981, 61: 0.5031, 62: 14.7016, 63: 0.9071, 64: 1.8494, 65: 2.5084, 66: 1.9545, 67: 1.7961, 68: 3.3557, 69: 0.6342, 70: 14.0523, 71: 3.7942, 72: 0.8652, 73: 4.8984, 75: 3.0236, 76: 1.6138, 77: 1.5592, 78: 1.3533, 79: 0.593, 80: 2.1836, 82: 12.1107, 83: 0.7517, 84: 0.3106, 85: 3.5734, 86: 0.9282, 87: 1.607, 88: 2.2934, 90: 1.0843, 91: 1.2637, 92: 1.5059, 93: 2.2664, 95: 1.4185, 96: 0.6762, 97: 0.6533, 98: 0.4256, 99: 0.7719}))']"
      ]
     },
     "execution_count": 32,
     "metadata": {},
     "output_type": "execute_result"
    }
   ],
   "source": [
    "dataset_rdd=sc_p.textFile(s_path)\n",
    "dataset_rdd.take(1)"
   ]
  },
  {
   "cell_type": "code",
   "execution_count": 38,
   "metadata": {},
   "outputs": [],
   "source": [
    "from pyspark.sql.types import *\n",
    "schema = StructType([\n",
    "StructField(\"business_id\", StringType(), True),\n",
    "StructField(\"collect_list(text_con)\", StringType(), True),\n",
    "StructField(\"avg(stars)\", IntegerType(), True),\n",
    "StructField('subcat', StringType(), True),\n",
    " StructField('label',  IntegerType(), True),\n",
    "  StructField('avg(stars)1',IntegerType(), True), \n",
    "  StructField('features', StringType(), True)]) "
   ]
  },
  {
   "cell_type": "code",
   "execution_count": 56,
   "metadata": {},
   "outputs": [
    {
     "data": {
      "text/plain": [
       "[('business_id', 'string'),\n",
       " ('collect_list(text_con)', 'string'),\n",
       " ('avg(stars)', 'int'),\n",
       " ('subcat', 'string'),\n",
       " ('label', 'int'),\n",
       " ('avg(stars)1', 'int'),\n",
       " ('features', 'string')]"
      ]
     },
     "execution_count": 56,
     "metadata": {},
     "output_type": "execute_result"
    }
   ],
   "source": [
    "dataset = dataset_rdd.toDF(schema)\n",
    "dataset.dtypes"
   ]
  },
  {
   "cell_type": "code",
   "execution_count": 57,
   "metadata": {},
   "outputs": [],
   "source": [
    "from pyspark.ml.linalg import Vectors, VectorUDT\n",
    "from pyspark.sql.functions import udf\n",
    "parse = udf(lambda x: Vectors.parse(x).asML(), VectorUDT())\n",
    "dataset = dataset.withColumn('features', parse('features'))"
   ]
  },
  {
   "cell_type": "code",
   "execution_count": 58,
   "metadata": {},
   "outputs": [
    {
     "data": {
      "text/plain": [
       "[('business_id', 'string'),\n",
       " ('collect_list(text_con)', 'string'),\n",
       " ('avg(stars)', 'int'),\n",
       " ('subcat', 'string'),\n",
       " ('label', 'int'),\n",
       " ('avg(stars)1', 'int'),\n",
       " ('features', 'vector')]"
      ]
     },
     "execution_count": 58,
     "metadata": {},
     "output_type": "execute_result"
    }
   ],
   "source": [
    "dataset.dtypes"
   ]
  },
  {
   "cell_type": "markdown",
   "metadata": {},
   "source": [
    "Split the data into training and test datasets."
   ]
  },
  {
   "cell_type": "code",
   "execution_count": 89,
   "metadata": {},
   "outputs": [],
   "source": [
    "(training_data, test_data) = dataset.randomSplit([0.7, 0.3], seed = 24)"
   ]
  },
  {
   "cell_type": "markdown",
   "metadata": {},
   "source": [
    "#### Try Naive Bayes classification as a baseline."
   ]
  },
  {
   "cell_type": "code",
   "execution_count": 90,
   "metadata": {},
   "outputs": [],
   "source": [
    "from pyspark.ml.classification import NaiveBayes\n",
    "nb = NaiveBayes(smoothing=1,  modelType=\"multinomial\",featuresCol='features', labelCol='label', predictionCol='prediction')\n",
    "model_nb = nb.fit(training_data)"
   ]
  },
  {
   "cell_type": "markdown",
   "metadata": {},
   "source": [
    "Check the model on the test set."
   ]
  },
  {
   "cell_type": "code",
   "execution_count": 93,
   "metadata": {},
   "outputs": [],
   "source": [
    "predictions_nb = model_nb.transform(test_data)"
   ]
  },
  {
   "cell_type": "code",
   "execution_count": 94,
   "metadata": {},
   "outputs": [
    {
     "name": "stdout",
     "output_type": "stream",
     "text": [
      "+-----+----------+\n",
      "|label|prediction|\n",
      "+-----+----------+\n",
      "|    0|       0.0|\n",
      "|    0|       0.0|\n",
      "|    3|       3.0|\n",
      "|    0|       4.0|\n",
      "|    0|       3.0|\n",
      "|    1|       1.0|\n",
      "|    1|       1.0|\n",
      "|    0|       0.0|\n",
      "|    3|       3.0|\n",
      "|    0|       0.0|\n",
      "+-----+----------+\n",
      "only showing top 10 rows\n",
      "\n"
     ]
    }
   ],
   "source": [
    "predictions_nb.select('label', 'prediction').show(10, True)"
   ]
  },
  {
   "cell_type": "code",
   "execution_count": 95,
   "metadata": {},
   "outputs": [],
   "source": [
    "from pyspark.ml.evaluation import MulticlassClassificationEvaluator\n",
    "evaluator = MulticlassClassificationEvaluator(predictionCol=\"prediction\")"
   ]
  },
  {
   "cell_type": "code",
   "execution_count": 96,
   "metadata": {},
   "outputs": [
    {
     "name": "stdout",
     "output_type": "stream",
     "text": [
      "MulticlassClassificationEvaluator_49a69a01771377465122__metricName\n",
      "labelCol: label column name. (default: label)\n",
      "metricName: metric name in evaluation (f1|weightedPrecision|weightedRecall|accuracy) (default: f1)\n",
      "predictionCol: prediction column name. (default: prediction, current: prediction)\n"
     ]
    }
   ],
   "source": [
    "print(evaluator.metricName)\n",
    "print(evaluator.explainParams())"
   ]
  },
  {
   "cell_type": "markdown",
   "metadata": {},
   "source": [
    "f1 score"
   ]
  },
  {
   "cell_type": "code",
   "execution_count": 98,
   "metadata": {},
   "outputs": [
    {
     "data": {
      "text/plain": [
       "0.7067230468038984"
      ]
     },
     "execution_count": 98,
     "metadata": {},
     "output_type": "execute_result"
    }
   ],
   "source": [
    "evaluator.evaluate(predictions_nb)"
   ]
  },
  {
   "cell_type": "markdown",
   "metadata": {},
   "source": [
    "accuracy"
   ]
  },
  {
   "cell_type": "code",
   "execution_count": 525,
   "metadata": {},
   "outputs": [],
   "source": [
    "evaluator = evaluator.setMetricName(\"accuracy\")"
   ]
  },
  {
   "cell_type": "code",
   "execution_count": 99,
   "metadata": {},
   "outputs": [
    {
     "data": {
      "text/plain": [
       "0.7067230468038984"
      ]
     },
     "execution_count": 99,
     "metadata": {},
     "output_type": "execute_result"
    }
   ],
   "source": [
    "evaluator.evaluate(predictions_nb)"
   ]
  },
  {
   "cell_type": "code",
   "execution_count": 537,
   "metadata": {},
   "outputs": [
    {
     "data": {
      "text/plain": [
       "5"
      ]
     },
     "execution_count": 537,
     "metadata": {},
     "output_type": "execute_result"
    }
   ],
   "source": [
    "#Check\n",
    "model_nb.numClasses"
   ]
  },
  {
   "cell_type": "markdown",
   "metadata": {},
   "source": [
    "#### Try multiclass Logistic Regression."
   ]
  },
  {
   "cell_type": "markdown",
   "metadata": {},
   "source": [
    "First try the default model."
   ]
  },
  {
   "cell_type": "code",
   "execution_count": 100,
   "metadata": {},
   "outputs": [],
   "source": [
    "from pyspark.ml.classification import LogisticRegression\n",
    "\n",
    "#predictionCol='prediction'\n",
    "lr = LogisticRegression(family=\"multinomial\", featuresCol='features', labelCol='label', predictionCol='prediction')\n",
    "model_lr = lr.fit(training_data)"
   ]
  },
  {
   "cell_type": "code",
   "execution_count": 117,
   "metadata": {},
   "outputs": [],
   "source": [
    "predictions_lr_def = model_lr.transform(test_data)"
   ]
  },
  {
   "cell_type": "code",
   "execution_count": 118,
   "metadata": {},
   "outputs": [
    {
     "name": "stdout",
     "output_type": "stream",
     "text": [
      "+-----+----------+\n",
      "|label|prediction|\n",
      "+-----+----------+\n",
      "|    0|       0.0|\n",
      "|    0|       0.0|\n",
      "|    3|       3.0|\n",
      "|    0|       1.0|\n",
      "|    0|       0.0|\n",
      "|    1|       1.0|\n",
      "|    1|       0.0|\n",
      "|    0|       0.0|\n",
      "|    3|       3.0|\n",
      "|    0|       0.0|\n",
      "+-----+----------+\n",
      "only showing top 10 rows\n",
      "\n"
     ]
    }
   ],
   "source": [
    "predictions_lr_def.select('label', 'prediction').show(10, True)"
   ]
  },
  {
   "cell_type": "markdown",
   "metadata": {},
   "source": [
    "Now, try using cross-validation to select the best logistic regression model."
   ]
  },
  {
   "cell_type": "code",
   "execution_count": 104,
   "metadata": {},
   "outputs": [],
   "source": [
    "from pyspark.ml.classification import LogisticRegression\n",
    "lr_cv = LogisticRegression(family=\"multinomial\", maxIter=10)"
   ]
  },
  {
   "cell_type": "markdown",
   "metadata": {},
   "source": [
    "Set up the parameter grid."
   ]
  },
  {
   "cell_type": "code",
   "execution_count": 127,
   "metadata": {},
   "outputs": [],
   "source": [
    "from pyspark.ml.tuning import CrossValidator, ParamGridBuilder\n",
    "from pyspark.ml.evaluation import MulticlassClassificationEvaluator\n",
    "import numpy as np\n",
    "paramGrid_lr = ParamGridBuilder() \\\n",
    "    .addGrid(lr_cv.regParam, [0.001, 0.01]) \\\n",
    "    .build()  \n",
    "   "
   ]
  },
  {
   "cell_type": "code",
   "execution_count": 128,
   "metadata": {},
   "outputs": [
    {
     "name": "stdout",
     "output_type": "stream",
     "text": [
      "{Param(parent=u'LogisticRegression_49279ccaab8aab6cc86c', name='regParam', doc='regularization parameter (>= 0).'): 0.001}\n",
      "{Param(parent=u'LogisticRegression_49279ccaab8aab6cc86c', name='regParam', doc='regularization parameter (>= 0).'): 0.01}\n"
     ]
    }
   ],
   "source": [
    "import pprint\n",
    "for p in paramGrid_lr:\n",
    "    print(p)"
   ]
  },
  {
   "cell_type": "markdown",
   "metadata": {},
   "source": [
    "Select the best model using cross-validation."
   ]
  },
  {
   "cell_type": "code",
   "execution_count": 129,
   "metadata": {},
   "outputs": [],
   "source": [
    "lr_ev = MulticlassClassificationEvaluator(predictionCol='prediction', labelCol='label')\n",
    "crossval_lr = CrossValidator(estimator=lr_cv, estimatorParamMaps=paramGrid_lr, evaluator = lr_ev, numFolds= 10, parallelism=8)  "
   ]
  },
  {
   "cell_type": "code",
   "execution_count": 131,
   "metadata": {},
   "outputs": [],
   "source": [
    "cvModel_lr = crossval_lr.fit(training_data)"
   ]
  },
  {
   "cell_type": "code",
   "execution_count": 132,
   "metadata": {},
   "outputs": [],
   "source": [
    "predictions_lr = cvModel_lr.bestModel.transform(test_data)"
   ]
  },
  {
   "cell_type": "code",
   "execution_count": 133,
   "metadata": {},
   "outputs": [
    {
     "data": {
      "text/plain": [
       "[Row(label=0, prediction=0.0),\n",
       " Row(label=0, prediction=0.0),\n",
       " Row(label=3, prediction=0.0),\n",
       " Row(label=0, prediction=0.0),\n",
       " Row(label=0, prediction=0.0),\n",
       " Row(label=1, prediction=1.0),\n",
       " Row(label=1, prediction=0.0),\n",
       " Row(label=0, prediction=0.0),\n",
       " Row(label=3, prediction=4.0),\n",
       " Row(label=0, prediction=0.0),\n",
       " Row(label=1, prediction=1.0)]"
      ]
     },
     "execution_count": 133,
     "metadata": {},
     "output_type": "execute_result"
    }
   ],
   "source": [
    "predictions_lr.select(\"label\", \"prediction\").take(11)"
   ]
  },
  {
   "cell_type": "markdown",
   "metadata": {},
   "source": [
    "f1 score"
   ]
  },
  {
   "cell_type": "code",
   "execution_count": 134,
   "metadata": {},
   "outputs": [
    {
     "data": {
      "text/plain": [
       "0.6656368867785614"
      ]
     },
     "execution_count": 134,
     "metadata": {},
     "output_type": "execute_result"
    }
   ],
   "source": [
    "evaluator = MulticlassClassificationEvaluator(predictionCol=\"prediction\")\n",
    "evaluator.evaluate(predictions_lr)"
   ]
  },
  {
   "cell_type": "markdown",
   "metadata": {},
   "source": [
    "accuracy"
   ]
  },
  {
   "cell_type": "code",
   "execution_count": 135,
   "metadata": {},
   "outputs": [
    {
     "data": {
      "text/plain": [
       "0.6931506849315069"
      ]
     },
     "execution_count": 135,
     "metadata": {},
     "output_type": "execute_result"
    }
   ],
   "source": [
    "evaluator = evaluator.setMetricName(\"accuracy\")\n",
    "evaluator.evaluate(predictions_lr)"
   ]
  },
  {
   "cell_type": "markdown",
   "metadata": {},
   "source": [
    "f1 score for the default model"
   ]
  },
  {
   "cell_type": "code",
   "execution_count": 119,
   "metadata": {},
   "outputs": [
    {
     "data": {
      "text/plain": [
       "0.705600095895541"
      ]
     },
     "execution_count": 119,
     "metadata": {},
     "output_type": "execute_result"
    }
   ],
   "source": [
    "evaluator = MulticlassClassificationEvaluator(predictionCol=\"prediction\")\n",
    "evaluator.evaluate(predictions_lr_def)"
   ]
  },
  {
   "cell_type": "markdown",
   "metadata": {},
   "source": [
    "accuracy for the default model"
   ]
  },
  {
   "cell_type": "code",
   "execution_count": 120,
   "metadata": {},
   "outputs": [
    {
     "data": {
      "text/plain": [
       "0.7136986301369863"
      ]
     },
     "execution_count": 120,
     "metadata": {},
     "output_type": "execute_result"
    }
   ],
   "source": [
    "evaluator = evaluator.setMetricName(\"accuracy\")\n",
    "evaluator.evaluate(predictions_lr_def)"
   ]
  },
  {
   "cell_type": "code",
   "execution_count": 136,
   "metadata": {},
   "outputs": [
    {
     "name": "stdout",
     "output_type": "stream",
     "text": [
      "[0.0, 1.0, 2.0, 3.0, 4.0]\n",
      "[0.7158203125, 0.85, 0.0, 0.7142857142857143, 0.7682926829268293]\n",
      "[0.36788874841972186, 0.023059185242121444, 0.0, 0.0056179775280898875, 0.06143896523848019]\n"
     ]
    }
   ],
   "source": [
    "print(cvModel_lr.bestModel.summary.labels)\n",
    "print(cvModel_lr.bestModel.summary.precisionByLabel)\n",
    "print(cvModel_lr.bestModel.summary.falsePositiveRateByLabel)"
   ]
  },
  {
   "cell_type": "code",
   "execution_count": 122,
   "metadata": {},
   "outputs": [
    {
     "name": "stdout",
     "output_type": "stream",
     "text": [
      "[0.0, 1.0, 2.0, 3.0, 4.0]\n",
      "[0.8496503496503497, 0.847457627118644, 1.0, 0.7753623188405797, 0.8813056379821959]\n",
      "[0.16308470290771176, 0.027671022290545733, 0.0, 0.021769662921348316, 0.03233629749393695]\n"
     ]
    }
   ],
   "source": [
    "print(model_lr.summary.labels)\n",
    "print(model_lr.summary.precisionByLabel)\n",
    "print(model_lr.summary.falsePositiveRateByLabel)"
   ]
  },
  {
   "cell_type": "markdown",
   "metadata": {},
   "source": [
    "The default model seems to perform better, but why? \n",
    "The available parameters are:"
   ]
  },
  {
   "cell_type": "code",
   "execution_count": 374,
   "metadata": {},
   "outputs": [
    {
     "data": {
      "text/plain": [
       "[Param(parent=u'LogisticRegression_4f838df5e3ae8fbb1fe6', name='aggregationDepth', doc='suggested depth for treeAggregate (>= 2).'),\n",
       " Param(parent=u'LogisticRegression_4f838df5e3ae8fbb1fe6', name='elasticNetParam', doc='the ElasticNet mixing parameter, in range [0, 1]. For alpha = 0, the penalty is an L2 penalty. For alpha = 1, it is an L1 penalty.'),\n",
       " Param(parent=u'LogisticRegression_4f838df5e3ae8fbb1fe6', name='family', doc='The name of family which is a description of the label distribution to be used in the model. Supported options: auto, binomial, multinomial'),\n",
       " Param(parent=u'LogisticRegression_4f838df5e3ae8fbb1fe6', name='featuresCol', doc='features column name.'),\n",
       " Param(parent=u'LogisticRegression_4f838df5e3ae8fbb1fe6', name='fitIntercept', doc='whether to fit an intercept term.'),\n",
       " Param(parent=u'LogisticRegression_4f838df5e3ae8fbb1fe6', name='labelCol', doc='label column name.'),\n",
       " Param(parent=u'LogisticRegression_4f838df5e3ae8fbb1fe6', name='lowerBoundsOnCoefficients', doc='The lower bounds on coefficients if fitting under bound constrained optimization. The bound matrix must be compatible with the shape (1, number of features) for binomial regression, or (number of classes, number of features) for multinomial regression.'),\n",
       " Param(parent=u'LogisticRegression_4f838df5e3ae8fbb1fe6', name='lowerBoundsOnIntercepts', doc='The lower bounds on intercepts if fitting under bound constrained optimization. The bounds vector size must beequal with 1 for binomial regression, or the number oflasses for multinomial regression.'),\n",
       " Param(parent=u'LogisticRegression_4f838df5e3ae8fbb1fe6', name='maxIter', doc='max number of iterations (>= 0).'),\n",
       " Param(parent=u'LogisticRegression_4f838df5e3ae8fbb1fe6', name='predictionCol', doc='prediction column name.'),\n",
       " Param(parent=u'LogisticRegression_4f838df5e3ae8fbb1fe6', name='probabilityCol', doc='Column name for predicted class conditional probabilities. Note: Not all models output well-calibrated probability estimates! These probabilities should be treated as confidences, not precise probabilities.'),\n",
       " Param(parent=u'LogisticRegression_4f838df5e3ae8fbb1fe6', name='rawPredictionCol', doc='raw prediction (a.k.a. confidence) column name.'),\n",
       " Param(parent=u'LogisticRegression_4f838df5e3ae8fbb1fe6', name='regParam', doc='regularization parameter (>= 0).'),\n",
       " Param(parent=u'LogisticRegression_4f838df5e3ae8fbb1fe6', name='standardization', doc='whether to standardize the training features before fitting the model.'),\n",
       " Param(parent=u'LogisticRegression_4f838df5e3ae8fbb1fe6', name='threshold', doc='Threshold in binary classification prediction, in range [0, 1]. If threshold and thresholds are both set, they must match.e.g. if threshold is p, then thresholds must be equal to [1-p, p].'),\n",
       " Param(parent=u'LogisticRegression_4f838df5e3ae8fbb1fe6', name='thresholds', doc=\"Thresholds in multi-class classification to adjust the probability of predicting each class. Array must have length equal to the number of classes, with values > 0, excepting that at most one value may be 0. The class with largest value p/t is predicted, where p is the original probability of that class and t is the class's threshold.\"),\n",
       " Param(parent=u'LogisticRegression_4f838df5e3ae8fbb1fe6', name='tol', doc='the convergence tolerance for iterative algorithms (>= 0).'),\n",
       " Param(parent=u'LogisticRegression_4f838df5e3ae8fbb1fe6', name='upperBoundsOnCoefficients', doc='The upper bounds on coefficients if fitting under bound constrained optimization. The bound matrix must be compatible with the shape (1, number of features) for binomial regression, or (number of classes, number of features) for multinomial regression.'),\n",
       " Param(parent=u'LogisticRegression_4f838df5e3ae8fbb1fe6', name='upperBoundsOnIntercepts', doc='The upper bounds on intercepts if fitting under bound constrained optimization. The bound vector size must be equal with 1 for binomial regression, or the number of classes for multinomial regression.'),\n",
       " Param(parent=u'LogisticRegression_4f838df5e3ae8fbb1fe6', name='weightCol', doc='weight column name. If this is not set or empty, we treat all instance weights as 1.0.')]"
      ]
     },
     "execution_count": 374,
     "metadata": {},
     "output_type": "execute_result"
    }
   ],
   "source": [
    "cvModel_lr.params"
   ]
  },
  {
   "cell_type": "code",
   "execution_count": 137,
   "metadata": {},
   "outputs": [
    {
     "name": "stdout",
     "output_type": "stream",
     "text": [
      "('aggregationDepth', 2)\n",
      "('elasticNetParam', 0.0)\n",
      "('family', u'multinomial')\n",
      "('featuresCol', u'features')\n",
      "('fitIntercept', True)\n",
      "('labelCol', u'label')\n",
      "('Failed for', 'lowerBoundsOnCoefficients')\n",
      "('Failed for', 'lowerBoundsOnIntercepts')\n",
      "('maxIter', 10)\n",
      "('predictionCol', u'prediction')\n",
      "('probabilityCol', u'probability')\n",
      "('rawPredictionCol', u'rawPrediction')\n",
      "('regParam', 0.001)\n",
      "('standardization', True)\n",
      "('threshold', 0.5)\n",
      "('Failed for', 'thresholds')\n",
      "('tol', 1e-06)\n",
      "('Failed for', 'upperBoundsOnCoefficients')\n",
      "('Failed for', 'upperBoundsOnIntercepts')\n",
      "('Failed for', 'weightCol')\n"
     ]
    }
   ],
   "source": [
    "cv_java_model = cvModel_lr.bestModel._java_obj\n",
    "for param in cvModel_lr.bestModel.params:\n",
    "    try:\n",
    "        print(param.name, cv_java_model.getOrDefault(cv_java_model.getParam(param.name)))\n",
    "    except:\n",
    "        print(\"Failed for\", param.name)"
   ]
  },
  {
   "cell_type": "code",
   "execution_count": 126,
   "metadata": {},
   "outputs": [
    {
     "name": "stdout",
     "output_type": "stream",
     "text": [
      "('aggregationDepth', 2)\n",
      "('elasticNetParam', 0.0)\n",
      "('family', u'multinomial')\n",
      "('featuresCol', u'features')\n",
      "('fitIntercept', True)\n",
      "('labelCol', u'label')\n",
      "('Failed for', 'lowerBoundsOnCoefficients')\n",
      "('Failed for', 'lowerBoundsOnIntercepts')\n",
      "('maxIter', 100)\n",
      "('predictionCol', u'prediction')\n",
      "('probabilityCol', u'probability')\n",
      "('rawPredictionCol', u'rawPrediction')\n",
      "('regParam', 0.0)\n",
      "('standardization', True)\n",
      "('threshold', 0.5)\n",
      "('Failed for', 'thresholds')\n",
      "('tol', 1e-06)\n",
      "('Failed for', 'upperBoundsOnCoefficients')\n",
      "('Failed for', 'upperBoundsOnIntercepts')\n",
      "('Failed for', 'weightCol')\n"
     ]
    }
   ],
   "source": [
    "java_model = model_lr._java_obj\n",
    "for param in cvModel_lr.bestModel.params:\n",
    "    try:\n",
    "        print(param.name, java_model.getOrDefault(java_model.getParam(param.name)))\n",
    "    except:\n",
    "        print(\"Failed for\", param.name)"
   ]
  },
  {
   "cell_type": "markdown",
   "metadata": {},
   "source": [
    "Note that maxIter is set to 100 for the default model vs. 10 for the cross-validation model. Additionaly, regParam is 0.0 for the default model vs. 0.001 (the lowest value in the grid) in the cv model."
   ]
  },
  {
   "cell_type": "code",
   "execution_count": 153,
   "metadata": {},
   "outputs": [
    {
     "name": "stdout",
     "output_type": "stream",
     "text": [
      "+-----+------------------+\n",
      "|label|   avg(prediction)|\n",
      "+-----+------------------+\n",
      "|    0|0.2746268656716418|\n",
      "|    1|0.6866666666666666|\n",
      "|    2|             1.875|\n",
      "|    3|1.5421686746987953|\n",
      "|    4|2.9675324675324677|\n",
      "+-----+------------------+\n",
      "\n"
     ]
    }
   ],
   "source": [
    "predictions_lr.groupby('label').avg(*['prediction']).orderBy('label').show()"
   ]
  },
  {
   "cell_type": "code",
   "execution_count": 154,
   "metadata": {},
   "outputs": [
    {
     "name": "stdout",
     "output_type": "stream",
     "text": [
      "+-----+-------------------+\n",
      "|label|    avg(prediction)|\n",
      "+-----+-------------------+\n",
      "|    0|0.43283582089552236|\n",
      "|    1| 0.7266666666666667|\n",
      "|    2|                0.5|\n",
      "|    3| 2.3493975903614457|\n",
      "|    4| 3.2467532467532467|\n",
      "+-----+-------------------+\n",
      "\n"
     ]
    }
   ],
   "source": [
    "predictions_lr_def.groupby('label').avg(*['prediction']).orderBy('label').show()"
   ]
  },
  {
   "cell_type": "markdown",
   "metadata": {},
   "source": [
    "Both models seem to have trouble with label 2, as indicated by the precision and false positives by label, though the cross-validated model has a precision of 0 for this label."
   ]
  },
  {
   "cell_type": "markdown",
   "metadata": {},
   "source": [
    "### Find terms using model weights for the 5 star category."
   ]
  },
  {
   "cell_type": "markdown",
   "metadata": {},
   "source": [
    "Fit the model to all the data now."
   ]
  },
  {
   "cell_type": "code",
   "execution_count": 123,
   "metadata": {},
   "outputs": [],
   "source": [
    "model_lr_all = lr.fit(dataset)"
   ]
  },
  {
   "cell_type": "code",
   "execution_count": 138,
   "metadata": {},
   "outputs": [],
   "source": [
    "cvModel_lr_all = crossval_lr.fit(dataset)"
   ]
  },
  {
   "cell_type": "code",
   "execution_count": 139,
   "metadata": {},
   "outputs": [
    {
     "data": {
      "text/plain": [
       "[Row(label=0, prediction=0.0),\n",
       " Row(label=0, prediction=0.0),\n",
       " Row(label=3, prediction=0.0),\n",
       " Row(label=0, prediction=0.0),\n",
       " Row(label=0, prediction=0.0),\n",
       " Row(label=1, prediction=1.0),\n",
       " Row(label=1, prediction=0.0),\n",
       " Row(label=0, prediction=0.0),\n",
       " Row(label=3, prediction=4.0),\n",
       " Row(label=0, prediction=0.0)]"
      ]
     },
     "execution_count": 139,
     "metadata": {},
     "output_type": "execute_result"
    }
   ],
   "source": [
    "predictions_lr.select('label', 'prediction').take(10)"
   ]
  },
  {
   "cell_type": "code",
   "execution_count": 142,
   "metadata": {},
   "outputs": [],
   "source": [
    "def get_coeffs(spark_model):\n",
    "    coeffs = [spark_model.coefficientMatrix[4,i] for i in range(0,100)]\n",
    "    return coeffs"
   ]
  },
  {
   "cell_type": "code",
   "execution_count": 144,
   "metadata": {},
   "outputs": [
    {
     "name": "stdout",
     "output_type": "stream",
     "text": [
      "[-0.15529180588989575, -0.14324344791076202, -0.10917463917903515, -0.10446182539062585, -0.09865901560219724, -0.09252236922021873, -0.09059713332594704, -0.08842765740493899, -0.08785609075622249, -0.07892537244813691, -0.07667614461154852, -0.07436215031355896, -0.06700045793109091, -0.0657628297806443, -0.062309215486031876, -0.061418937090416105, -0.05584335855517342, -0.05525499648642378, -0.051043918613982914, -0.04908284619921142, -0.0470622597268791, -0.04671231841979992, -0.04597174968605089, -0.04551681533602115, -0.0436522078394897, -0.038558277129131166, -0.03818601332846225, -0.0381797743409044, -0.03795400293871837, -0.034442324069010516, -0.03383685155913508, -0.032550389813795634, -0.030968997178705375, -0.02802445529592824, -0.027192729237227518, -0.026925023495562403, -0.02588176739160335, -0.025560206384533674, -0.02490725016786167, -0.02222419206024814, -0.021649916144265344, -0.020797008917861154, -0.020557528641175504, -0.02030552463361663, -0.020145377448365337, -0.019620582672969542, -0.018613497155201632, -0.018147756054666182, -0.015426452286806152, -0.014797893808765263, -0.011223244308859537, -0.010939361868599989, -0.01059666095326875, -0.009197822191046043, -0.0037776639317207267, -0.0031442917688859974, -0.003109874091035826, -0.0019510970213679974, 0.001405426362843209, 0.005900456476954552, 0.006594668818452365, 0.010225373336779288, 0.0121756562250548, 0.013257517829445798, 0.01487357002215744, 0.014901069235678051, 0.01858833709735755, 0.019036329743720184, 0.020300575341389526, 0.024543061114919513, 0.02574313189678115, 0.030334703318353372, 0.030776467891854616, 0.0389897773963392, 0.03965483816251744, 0.04145084539092371, 0.04197996906449861, 0.04225218487102237, 0.043088675977512744, 0.04315064940550586, 0.045510693823613654, 0.04593291244854858, 0.04633203496190091, 0.046845032991549046, 0.047666537371521676, 0.04973609388388303, 0.05133297337198782, 0.055386799170234036, 0.06251094536602132, 0.06767921049784392, 0.0941139624835808, 0.10072714490541547, 0.10912331310227151, 0.11053586186279768, 0.1238478599326908, 0.13249588090432446, 0.19335102923645278, 0.20736415961998753, 0.2244035092212504, 0.2419390543160943]\n",
      "0.2419390543160943\n"
     ]
    },
    {
     "data": {
      "text/plain": [
       "u'chicken'"
      ]
     },
     "execution_count": 144,
     "metadata": {},
     "output_type": "execute_result"
    }
   ],
   "source": [
    "#Cross-valicated model.\n",
    "cv_coeffs = get_coeffs(cvModel_lr_all.bestModel)\n",
    "cv_sorted_coeffs = sorted(cv_coeffs)\n",
    "print(cv_sorted_coeffs)\n",
    "print(max(cv_coeffs))  \n",
    "vocab[cv_coeffs.index(max(cv_coeffs))]"
   ]
  },
  {
   "cell_type": "code",
   "execution_count": 145,
   "metadata": {},
   "outputs": [
    {
     "name": "stdout",
     "output_type": "stream",
     "text": [
      "[-1.9999627320406892, -1.173284637561662, -1.167007676256425, -0.9215433470113747, -0.8890752859366906, -0.8387323690847687, -0.8371786201554213, -0.7012689985298536, -0.6948965294846327, -0.6423839976568692, -0.5701867558163636, -0.5671504298183229, -0.4837738609494305, -0.46345083082442085, -0.4512503152593117, -0.4251480849069706, -0.4045293141287, -0.3875932023952906, -0.38213663632232014, -0.37857843655583295, -0.37703896196150616, -0.3500322860486305, -0.33172539007531204, -0.3252396230153621, -0.2727412234413328, -0.26861344546702143, -0.2162454946156691, -0.1609440133081354, -0.15545213559984186, -0.1522290634363648, -0.1346331948373627, -0.12306422276789299, -0.12029743077344451, -0.114925173622036, -0.11330308210438031, -0.11055867971922723, -0.10601353724660567, -0.10235493239451954, -0.10145706978441196, -0.06315767909988033, -0.0611913127094429, -0.05843340780046319, -0.05750254303425115, -0.04942347313950077, -0.03961117336019388, -0.038901829781831425, -0.013753000575459813, -0.007683194461706492, 0.00012126599820858607, 0.004264330354744798, 0.00893982386774798, 0.023886499371349294, 0.027563230046716243, 0.028889285423843728, 0.0555693685836049, 0.06044448786146791, 0.07171230209105356, 0.07203114481649928, 0.09466493569977348, 0.10147420727187971, 0.10648929010308461, 0.11242703863411749, 0.11839507066386018, 0.11935849937400907, 0.1197650952614027, 0.15374366549245125, 0.16342314733274846, 0.1649166820574975, 0.1717460413604133, 0.18218166811943828, 0.19209955336277187, 0.25728673844319316, 0.2992117503304186, 0.3008556164762732, 0.3013633557624699, 0.30665713412633056, 0.32556963821359675, 0.3382944949347416, 0.35317635528342955, 0.3536163705129983, 0.3647170916444471, 0.4029748728616979, 0.41261432065679926, 0.41342458398261034, 0.4375516019918762, 0.49973612640404563, 0.5046540413853825, 0.5346709496140487, 0.5678847784556698, 0.6662635604220325, 0.7205933606624676, 0.7341557564027164, 0.7579029267624993, 0.76529096703719, 0.8546950370931139, 0.9476883729389677, 0.9538579655669454, 0.9648937648780704, 1.3485207628841995, 1.569682873841614]\n",
      "1.569682873841614\n"
     ]
    },
    {
     "data": {
      "text/plain": [
       "u'take'"
      ]
     },
     "execution_count": 145,
     "metadata": {},
     "output_type": "execute_result"
    }
   ],
   "source": [
    "#Default model.\n",
    "coeffs = get_coeffs(model_lr)\n",
    "sorted_coeffs = sorted(coeffs)\n",
    "print(sorted_coeffs)\n",
    "print(max(coeffs))  \n",
    "vocab[coeffs.index(max(coeffs))]"
   ]
  },
  {
   "cell_type": "code",
   "execution_count": 150,
   "metadata": {},
   "outputs": [
    {
     "data": {
      "text/plain": [
       "{u'also': 0.03965483816251744,\n",
       " u'always': 0.045510693823613654,\n",
       " u'area': 0.04593291244854858,\n",
       " u'bad': 0.04225218487102237,\n",
       " u'best': 0.04973609388388303,\n",
       " u'better': 0.024543061114919513,\n",
       " u'bit': 0.04633203496190091,\n",
       " u'chicken': 0.2419390543160943,\n",
       " u'definitely': 0.030334703318353372,\n",
       " u'delicious': 0.006594668818452365,\n",
       " u'dish': 0.0941139624835808,\n",
       " u'eat': 0.046845032991549046,\n",
       " u'everything': 0.019036329743720184,\n",
       " u'favorite': 0.06767921049784392,\n",
       " u'food': 0.20736415961998753,\n",
       " u'fresh': 0.13249588090432446,\n",
       " u'good': 0.014901069235678051,\n",
       " u'like': 0.030776467891854616,\n",
       " u'little': 0.0121756562250548,\n",
       " u'll': 0.01487357002215744,\n",
       " u'lunch': 0.19335102923645278,\n",
       " u'much': 0.04197996906449861,\n",
       " u'never': 0.013257517829445798,\n",
       " u'order': 0.1238478599326908,\n",
       " u'ordered': 0.0389897773963392,\n",
       " u'pittsburgh': 0.001405426362843209,\n",
       " u'place': 0.04145084539092371,\n",
       " u'pretty': 0.055386799170234036,\n",
       " u'really': 0.020300575341389526,\n",
       " u'recommend': 0.05133297337198782,\n",
       " u'restaurant': 0.10072714490541547,\n",
       " u'sauce': 0.06251094536602132,\n",
       " u'say': 0.005900456476954552,\n",
       " u'still': 0.04315064940550586,\n",
       " u'take': 0.2244035092212504,\n",
       " u'think': 0.043088675977512744,\n",
       " u'though': 0.047666537371521676,\n",
       " u'times': 0.01858833709735755,\n",
       " u'tried': 0.11053586186279768,\n",
       " u'try': 0.02574313189678115,\n",
       " u've': 0.10912331310227151,\n",
       " u'wasn': 0.010225373336779288}"
      ]
     },
     "execution_count": 150,
     "metadata": {},
     "output_type": "execute_result"
    }
   ],
   "source": [
    "weighted_terms = { vocab[cv_coeffs.index(coeff)]: coeff for coeff in cv_sorted_coeffs if coeff>0}\n",
    "weighted_terms"
   ]
  },
  {
   "cell_type": "code",
   "execution_count": 148,
   "metadata": {},
   "outputs": [
    {
     "data": {
      "text/plain": [
       "{u'also': 1.3485207628841995,\n",
       " u'area': 0.3536163705129983,\n",
       " u'bad': 0.7341557564027164,\n",
       " u'bar': 0.00893982386774798,\n",
       " u'best': 0.5346709496140487,\n",
       " u'bit': 0.32556963821359675,\n",
       " u'came': 0.11839507066386018,\n",
       " u'chicken': 0.5046540413853825,\n",
       " u'definitely': 0.18218166811943828,\n",
       " u'didn': 0.1197650952614027,\n",
       " u'dinner': 0.41342458398261034,\n",
       " u'dish': 0.15374366549245125,\n",
       " u'drinks': 0.027563230046716243,\n",
       " u'ever': 0.9538579655669454,\n",
       " u'excellent': 0.3013633557624699,\n",
       " u'favorite': 0.00012126599820858607,\n",
       " u'first': 0.1717460413604133,\n",
       " u'food': 0.8546950370931139,\n",
       " u'fresh': 0.3008556164762732,\n",
       " u'get': 0.30665713412633056,\n",
       " u'good': 0.1649166820574975,\n",
       " u'got': 0.09466493569977348,\n",
       " u'great': 0.19209955336277187,\n",
       " u'like': 0.10147420727187971,\n",
       " u'll': 0.023886499371349294,\n",
       " u'lunch': 0.7579029267624993,\n",
       " u'make': 0.49973612640404563,\n",
       " u'minutes': 0.41261432065679926,\n",
       " u'much': 0.4375516019918762,\n",
       " u'never': 0.0555693685836049,\n",
       " u'nice': 0.6662635604220325,\n",
       " u'order': 0.4029748728616979,\n",
       " u'pittsburgh': 0.07171230209105356,\n",
       " u'place': 0.9648937648780704,\n",
       " u'pretty': 0.7205933606624676,\n",
       " u're': 0.004264330354744798,\n",
       " u'really': 0.16342314733274846,\n",
       " u'restaurant': 0.3647170916444471,\n",
       " u'sauce': 0.10648929010308461,\n",
       " u'small': 0.028889285423843728,\n",
       " u'still': 0.5678847784556698,\n",
       " u'table': 0.25728673844319316,\n",
       " u'take': 1.569682873841614,\n",
       " u'think': 0.9476883729389677,\n",
       " u'though': 0.06044448786146791,\n",
       " u'tried': 0.76529096703719,\n",
       " u'try': 0.3382944949347416,\n",
       " u'us': 0.07203114481649928,\n",
       " u've': 0.2992117503304186,\n",
       " u'wait': 0.11242703863411749,\n",
       " u'wasn': 0.11935849937400907,\n",
       " u'went': 0.35317635528342955}"
      ]
     },
     "execution_count": 148,
     "metadata": {},
     "output_type": "execute_result"
    }
   ],
   "source": [
    "weighted_terms = { vocab[coeffs.index(coeff)]: coeff for coeff in sorted_coeffs if coeff>0}\n",
    "weighted_terms"
   ]
  },
  {
   "cell_type": "code",
   "execution_count": 151,
   "metadata": {},
   "outputs": [
    {
     "data": {
      "text/plain": [
       "(-0.5, 399.5, 199.5, -0.5)"
      ]
     },
     "execution_count": 151,
     "metadata": {},
     "output_type": "execute_result"
    },
    {
     "data": {
      "image/png": "[encoded data removed]",
      "text/plain": [
       "<matplotlib.figure.Figure at 0x14e90320>"
      ]
     },
     "metadata": {},
     "output_type": "display_data"
    }
   ],
   "source": [
    "from PIL import Image\n",
    "from wordcloud import WordCloud\n",
    "wc = WordCloud()\n",
    "wc.generate_from_frequencies(weighted_terms)\n",
    "plt.imshow(wc, interpolation=\"bilinear\")\n",
    "plt.axis(\"off\")"
   ]
  },
  {
   "cell_type": "code",
   "execution_count": 496,
   "metadata": {},
   "outputs": [
    {
     "data": {
      "text/plain": [
       "(-0.5, 399.5, 199.5, -0.5)"
      ]
     },
     "execution_count": 496,
     "metadata": {},
     "output_type": "execute_result"
    },
    {
     "data": {
      "image/png": "[encoded data removed]",
      "text/plain": [
       "<matplotlib.figure.Figure at 0x13a002e8>"
      ]
     },
     "metadata": {},
     "output_type": "display_data"
    }
   ],
   "source": [
    "from PIL import Image\n",
    "from wordcloud import WordCloud\n",
    "wc = WordCloud()\n",
    "wc.generate_from_frequencies(weighted_terms)\n",
    "plt.imshow(wc, interpolation=\"bilinear\")\n",
    "plt.axis(\"off\")"
   ]
  },
  {
   "cell_type": "markdown",
   "metadata": {},
   "source": [
    "So it seems that the best food to serve would be fresh chicken. :)"
   ]
  },
  {
   "cell_type": "markdown",
   "metadata": {},
   "source": [
    "Potential expansions are to try other models/try using n-grams to get word context."
   ]
  },
  {
   "cell_type": "code",
   "execution_count": null,
   "metadata": {},
   "outputs": [],
   "source": []
  }
 ],
 "metadata": {
  "kernelspec": {
   "display_name": "Python 2",
   "language": "python",
   "name": "python2"
  },
  "language_info": {
   "codemirror_mode": {
    "name": "ipython",
    "version": 2
   },
   "file_extension": ".py",
   "mimetype": "text/x-python",
   "name": "python",
   "nbconvert_exporter": "python",
   "pygments_lexer": "ipython2",
   "version": "2.7.14"
  }
 },
 "nbformat": 4,
 "nbformat_minor": 2
}
